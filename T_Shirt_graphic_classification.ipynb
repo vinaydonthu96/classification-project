{
 "cells": [
  {
   "cell_type": "code",
   "execution_count": 2,
   "metadata": {},
   "outputs": [],
   "source": [
    "# Import numpy for array operations\n",
    "import numpy as np"
   ]
  },
  {
   "cell_type": "markdown",
   "metadata": {},
   "source": [
    "### Image Augmentation Example"
   ]
  },
  {
   "cell_type": "code",
   "execution_count": 22,
   "metadata": {},
   "outputs": [],
   "source": [
    "# Import ImageDataGenerator for image preprocessing/augmentation\n",
    "# This basically creates multiple copies of train images by jittering(adding noise). \n",
    "# This includes rotating, zooming in, flipping, shifting, etc.\n",
    "from keras.preprocessing.image import ImageDataGenerator\n",
    "\n",
    "datagen = ImageDataGenerator(\n",
    "        rotation_range=40,\n",
    "        width_shift_range=0.2,\n",
    "        height_shift_range=0.2,\n",
    "        shear_range=0.2,\n",
    "        zoom_range=0.2,\n",
    "        horizontal_flip=True,\n",
    "        fill_mode='nearest') # 'nearest' is kind of algorithm to fill pixel values while transformation"
   ]
  },
  {
   "cell_type": "markdown",
   "metadata": {},
   "source": [
    "### Save augmented images "
   ]
  },
  {
   "cell_type": "code",
   "execution_count": 23,
   "metadata": {},
   "outputs": [],
   "source": [
    "import os\n",
    "from keras.preprocessing.image import img_to_array, load_img\n",
    "\n",
    "img = load_img('C:\\\\Users\\\\venup\\\\Documents\\\\TShirt Graphic Classification\\\\Images_Master\\\\Train\\\\Abstract\\\\img_24.png')  # this is a PIL image\n",
    "x = img_to_array(img)  # this is a Numpy array with shape (480, 640, 3)\n",
    "x = x.reshape((1,) + x.shape)  # this is a Numpy array with shape (1, 480, 640, 3)\n",
    "\n",
    "# Create a directory named 'preview' in which we can save augmented images. \n",
    "os.system('mkdir preview')\n",
    "\n",
    "# the .flow() command below generates batches of randomly transformed images\n",
    "# and saves the results to the `preview/` directory\n",
    "i = 0\n",
    "for batch in datagen.flow(x, batch_size=1,\n",
    "                          save_to_dir='preview', save_prefix='c0', save_format='jpg'):\n",
    "    i += 1\n",
    "    if i > 20:\n",
    "        break  # otherwise the generator would loop indefinitely"
   ]
  },
  {
   "cell_type": "markdown",
   "metadata": {},
   "source": [
    "### Model Architecture"
   ]
  },
  {
   "cell_type": "code",
   "execution_count": 4,
   "metadata": {},
   "outputs": [],
   "source": [
    "from keras.models import Sequential\n",
    "from keras.layers import Conv2D, MaxPooling2D\n",
    "from keras.layers import Activation, Dropout, Flatten, Dense\n",
    "\n",
    "model = Sequential()\n",
    "model.add(Conv2D(32, (3, 3), input_shape=(150, 150, 3)))\n",
    "model.add(Activation('relu'))\n",
    "model.add(MaxPooling2D(pool_size=(2, 2)))\n",
    "\n",
    "model.add(Conv2D(32, (3, 3)))\n",
    "model.add(Activation('relu'))\n",
    "model.add(MaxPooling2D(pool_size=(2, 2)))\n",
    "\n",
    "model.add(Conv2D(64, (3, 3)))\n",
    "model.add(Activation('relu'))\n",
    "model.add(MaxPooling2D(pool_size=(2, 2)))\n",
    "\n",
    "model.add(Flatten())  # this converts our 3D feature maps to 1D feature vectors\n",
    "model.add(Dense(64))\n",
    "model.add(Activation('relu'))\n",
    "model.add(Dropout(0.5))\n",
    "model.add(Dense(23))\n",
    "model.add(Activation('softmax'))\n",
    "\n",
    "model.compile(loss='categorical_crossentropy',\n",
    "              optimizer='rmsprop',\n",
    "              metrics=['accuracy'])"
   ]
  },
  {
   "cell_type": "markdown",
   "metadata": {},
   "source": [
    "### Define train and validation generators\n",
    "This is extremely useful when the samples are arranged in a structure, where all samples corresponding to one class are in a single folder. And all such folders corresponding to train/validation are in a parent folder. "
   ]
  },
  {
   "cell_type": "code",
   "execution_count": 5,
   "metadata": {},
   "outputs": [
    {
     "name": "stdout",
     "output_type": "stream",
     "text": [
      "Found 4285 images belonging to 23 classes.\n",
      "Found 1618 images belonging to 23 classes.\n"
     ]
    }
   ],
   "source": [
    "batch_size = 50\n",
    "\n",
    "# This is the augmentation configuration we will use for training\n",
    "train_datagen = ImageDataGenerator(\n",
    "        rescale=1./255,\n",
    "        shear_range=0.2,\n",
    "        zoom_range=0.2,\n",
    "        horizontal_flip=True)\n",
    "\n",
    "# This is the augmentation configuration we will use for testing:\n",
    "# Only rescaling. Other transformations are not required for testing. Duh!\n",
    "test_datagen = ImageDataGenerator(rescale=1./255)\n",
    "\n",
    "# this is a generator that will read pictures found in\n",
    "# subfolers of 'data/train', and indefinitely generate\n",
    "# batches of augmented image data\n",
    "train_generator = train_datagen.flow_from_directory(\n",
    "        'Images_Master//Train',  # this is the target directory\n",
    "        target_size=(150, 150),  # all images will be resized to 150x150\n",
    "        batch_size=batch_size,\n",
    "        class_mode='categorical')  # since we use binary_crossentropy loss, we need binary labels\n",
    "\n",
    "# this is a similar generator, for validation data\n",
    "validation_generator = test_datagen.flow_from_directory(\n",
    "        'Images_Master//Validation',\n",
    "        target_size=(150, 150),\n",
    "        batch_size=batch_size,\n",
    "       class_mode='categorical')"
   ]
  },
  {
   "cell_type": "markdown",
   "metadata": {},
   "source": [
    "### Train the model"
   ]
  },
  {
   "cell_type": "code",
   "execution_count": 6,
   "metadata": {
    "scrolled": true
   },
   "outputs": [
    {
     "name": "stdout",
     "output_type": "stream",
     "text": [
      "Epoch 1/5\n",
      "85/85 [==============================] - 731s 9s/step - loss: 2.3277 - acc: 0.3301 - val_loss: 2.1776 - val_acc: 0.3156\n",
      "Epoch 2/5\n",
      "85/85 [==============================] - 661s 8s/step - loss: 1.9280 - acc: 0.4830 - val_loss: 2.2306 - val_acc: 0.3259\n",
      "Epoch 3/5\n",
      "85/85 [==============================] - 750s 9s/step - loss: 1.7972 - acc: 0.5367 - val_loss: 2.2997 - val_acc: 0.3355\n",
      "Epoch 4/5\n",
      "85/85 [==============================] - 854s 10s/step - loss: 1.7264 - acc: 0.5633 - val_loss: 2.6818 - val_acc: 0.3265\n",
      "Epoch 5/5\n",
      "85/85 [==============================] - 811s 10s/step - loss: 1.6681 - acc: 0.5792 - val_loss: 2.6496 - val_acc: 0.3170\n"
     ]
    }
   ],
   "source": [
    "# fit_generator is similar to 'fit'. But instead of x_train and y_train, we pass 'train_generator' \n",
    "# which already has the samples and their corresponding target information.\n",
    "\n",
    "# 'step' here is one mini-batch\n",
    "# 'steps_per_epoch' is number of batches per epoch.\n",
    "# Typically 'steps_per_epoch' should be total_samples divided by batch_size\n",
    "model.fit_generator(\n",
    "        train_generator,\n",
    "        steps_per_epoch=4285//batch_size, # '//' in python returns only the quotient\n",
    "        epochs=5,\n",
    "        validation_data=validation_generator,\n",
    "        validation_steps=1618//batch_size)\n",
    "model.save_weights('first_try.h5')  # a\n",
    "\n",
    "#always save your weights after training or during training"
   ]
  },
  {
   "cell_type": "code",
   "execution_count": 7,
   "metadata": {},
   "outputs": [
    {
     "name": "stdout",
     "output_type": "stream",
     "text": [
      "{'Abstract': 0, 'Biker': 1, 'Camouflage': 2, 'Checked': 3, 'Colourblocked': 4, 'Conversational': 5, 'Floral': 6, 'Geometric': 7, 'Graphic': 8, 'Humour and Comic': 9, 'Music': 10, 'People and Places': 11, 'Polka Dots': 12, 'Self Design': 13, 'Solid': 14, 'Sports': 15, 'Sports and Team Jersey': 16, 'Striped': 17, 'Superhero': 18, 'Tie and Dye': 19, 'Tribal': 20, 'Typography': 21, 'Varsity': 22}\n"
     ]
    }
   ],
   "source": [
    "# print(train_generator.filenames)\n",
    "print(train_generator.class_indices) # This returns class labels of directories"
   ]
  },
  {
   "cell_type": "markdown",
   "metadata": {},
   "source": [
    "### Test the model"
   ]
  },
  {
   "cell_type": "code",
   "execution_count": 8,
   "metadata": {},
   "outputs": [
    {
     "name": "stdout",
     "output_type": "stream",
     "text": [
      "Found 2849 images belonging to 23 classes.\n"
     ]
    }
   ],
   "source": [
    "test_generator = test_datagen.flow_from_directory(\n",
    "        'Images_Master//Test',  # this is the target directory\n",
    "        target_size=(150, 150),  # all images will be resized to 150x150\n",
    "        batch_size=batch_size,\n",
    "        class_mode='categorical')  # since we use binary_crossentropy loss, we need binary labels"
   ]
  },
  {
   "cell_type": "code",
   "execution_count": 16,
   "metadata": {},
   "outputs": [
    {
     "name": "stdout",
     "output_type": "stream",
     "text": [
      "[14 21 21 ... 14 14 14]\n"
     ]
    }
   ],
   "source": [
    "test_prob = model.predict_generator(test_generator, steps=len(test_generator)) # this returns the probabilities\n",
    "test_pred_classes = np.argmax(test_prob, axis=1) # convert probabilities to classes\n",
    "print(test_pred_classes)\n"
   ]
  },
  {
   "cell_type": "code",
   "execution_count": 17,
   "metadata": {},
   "outputs": [
    {
     "data": {
      "text/plain": [
       "57"
      ]
     },
     "execution_count": 17,
     "metadata": {},
     "output_type": "execute_result"
    }
   ],
   "source": [
    "len(test_generator)"
   ]
  },
  {
   "cell_type": "code",
   "execution_count": 18,
   "metadata": {},
   "outputs": [
    {
     "name": "stdout",
     "output_type": "stream",
     "text": [
      "['Abstract\\\\img_1001.png', 'Abstract\\\\img_1027.png', 'Abstract\\\\img_1030.png', 'Abstract\\\\img_1078.png', 'Abstract\\\\img_1107.png', 'Abstract\\\\img_1141.png', 'Abstract\\\\img_115.png', 'Abstract\\\\img_1153.png', 'Abstract\\\\img_1158.png', 'Abstract\\\\img_1166.png', 'Abstract\\\\img_1185.png', 'Abstract\\\\img_1213.png', 'Abstract\\\\img_1214.png', 'Abstract\\\\img_126.png', 'Abstract\\\\img_1271.png', 'Abstract\\\\img_1283.png', 'Abstract\\\\img_1304.png', 'Abstract\\\\img_1308.png', 'Abstract\\\\img_1310.png', 'Abstract\\\\img_1313.png', 'Abstract\\\\img_1363.png', 'Abstract\\\\img_1379.png', 'Abstract\\\\img_1409.png', 'Abstract\\\\img_1441.png', 'Abstract\\\\img_1447.png', 'Abstract\\\\img_1468.png', 'Abstract\\\\img_1531.png', 'Abstract\\\\img_1533.png', 'Abstract\\\\img_154.png', 'Abstract\\\\img_1589.png', 'Abstract\\\\img_1595.png', 'Abstract\\\\img_1608.png', 'Abstract\\\\img_1616.png', 'Abstract\\\\img_1622.png', 'Abstract\\\\img_1630.png', 'Abstract\\\\img_1694.png', 'Abstract\\\\img_1712.png', 'Abstract\\\\img_1723.png', 'Abstract\\\\img_1745.png', 'Abstract\\\\img_1786.png', 'Abstract\\\\img_1827.png', 'Abstract\\\\img_1839.png', 'Abstract\\\\img_1841.png', 'Abstract\\\\img_1931.png', 'Abstract\\\\img_1946.png', 'Abstract\\\\img_2063.png', 'Abstract\\\\img_2072.png', 'Abstract\\\\img_2085.png', 'Abstract\\\\img_2155.png', 'Abstract\\\\img_2206.png', 'Abstract\\\\img_2226.png', 'Abstract\\\\img_2227.png', 'Abstract\\\\img_2237.png', 'Abstract\\\\img_2252.png', 'Abstract\\\\img_2255.png', 'Abstract\\\\img_2257.png', 'Abstract\\\\img_2280.png', 'Abstract\\\\img_2329.png', 'Abstract\\\\img_2330.png', 'Abstract\\\\img_2350.png', 'Abstract\\\\img_2377.png', 'Abstract\\\\img_2403.png', 'Abstract\\\\img_2422.png', 'Abstract\\\\img_2423.png', 'Abstract\\\\img_2434.png', 'Abstract\\\\img_2457.png', 'Abstract\\\\img_2462.png', 'Abstract\\\\img_2463.png', 'Abstract\\\\img_2492.png', 'Abstract\\\\img_2526.png', 'Abstract\\\\img_2552.png', 'Abstract\\\\img_2566.png', 'Abstract\\\\img_2645.png', 'Abstract\\\\img_2692.png', 'Abstract\\\\img_2728.png', 'Abstract\\\\img_2736.png', 'Abstract\\\\img_2762.png', 'Abstract\\\\img_2768.png', 'Abstract\\\\img_277.png', 'Abstract\\\\img_2791.png', 'Abstract\\\\img_2805.png', 'Abstract\\\\img_2851.png', 'Abstract\\\\img_347.png', 'Abstract\\\\img_351.png', 'Abstract\\\\img_36.png', 'Abstract\\\\img_362.png', 'Abstract\\\\img_369.png', 'Abstract\\\\img_380.png', 'Abstract\\\\img_400.png', 'Abstract\\\\img_402.png', 'Abstract\\\\img_42.png', 'Abstract\\\\img_443.png', 'Abstract\\\\img_497.png', 'Abstract\\\\img_499.png', 'Abstract\\\\img_533.png', 'Abstract\\\\img_551.png', 'Abstract\\\\img_554.png', 'Abstract\\\\img_56.png', 'Abstract\\\\img_720.png', 'Abstract\\\\img_746.png', 'Abstract\\\\img_764.png', 'Abstract\\\\img_78.png', 'Abstract\\\\img_800.png', 'Abstract\\\\img_82.png', 'Abstract\\\\img_933.png', 'Abstract\\\\img_937.png', 'Abstract\\\\img_938.png', 'Abstract\\\\img_944.png', 'Abstract\\\\img_95.png', 'Abstract\\\\img_953.png', 'Biker\\\\img_138.png', 'Biker\\\\img_1402.png', 'Biker\\\\img_150.png', 'Biker\\\\img_151.png', 'Biker\\\\img_1782.png', 'Biker\\\\img_1910.png', 'Biker\\\\img_2012.png', 'Biker\\\\img_2045.png', 'Biker\\\\img_2101.png', 'Biker\\\\img_2198.png', 'Biker\\\\img_2207.png', 'Biker\\\\img_2321.png', 'Biker\\\\img_2584.png', 'Biker\\\\img_2769.png', 'Biker\\\\img_356.png', 'Biker\\\\img_546.png', 'Biker\\\\img_882.png', 'Camouflage\\\\img_1183.png', 'Camouflage\\\\img_140.png', 'Camouflage\\\\img_1564.png', 'Camouflage\\\\img_1829.png', 'Camouflage\\\\img_2245.png', 'Checked\\\\img_1140.png', 'Checked\\\\img_167.png', 'Checked\\\\img_1744.png', 'Checked\\\\img_387.png', 'Colourblocked\\\\img_1018.png', 'Colourblocked\\\\img_1035.png', 'Colourblocked\\\\img_1037.png', 'Colourblocked\\\\img_1046.png', 'Colourblocked\\\\img_1066.png', 'Colourblocked\\\\img_1073.png', 'Colourblocked\\\\img_1103.png', 'Colourblocked\\\\img_1149.png', 'Colourblocked\\\\img_12.png', 'Colourblocked\\\\img_1221.png', 'Colourblocked\\\\img_1226.png', 'Colourblocked\\\\img_1273.png', 'Colourblocked\\\\img_1274.png', 'Colourblocked\\\\img_1287.png', 'Colourblocked\\\\img_1311.png', 'Colourblocked\\\\img_1398.png', 'Colourblocked\\\\img_1419.png', 'Colourblocked\\\\img_1443.png', 'Colourblocked\\\\img_1455.png', 'Colourblocked\\\\img_1464.png', 'Colourblocked\\\\img_1469.png', 'Colourblocked\\\\img_1502.png', 'Colourblocked\\\\img_1512.png', 'Colourblocked\\\\img_1550.png', 'Colourblocked\\\\img_1551.png', 'Colourblocked\\\\img_1555.png', 'Colourblocked\\\\img_1596.png', 'Colourblocked\\\\img_1601.png', 'Colourblocked\\\\img_1643.png', 'Colourblocked\\\\img_1651.png', 'Colourblocked\\\\img_1696.png', 'Colourblocked\\\\img_1697.png', 'Colourblocked\\\\img_1736.png', 'Colourblocked\\\\img_1776.png', 'Colourblocked\\\\img_1792.png', 'Colourblocked\\\\img_1835.png', 'Colourblocked\\\\img_1845.png', 'Colourblocked\\\\img_186.png', 'Colourblocked\\\\img_1861.png', 'Colourblocked\\\\img_1934.png', 'Colourblocked\\\\img_1955.png', 'Colourblocked\\\\img_1980.png', 'Colourblocked\\\\img_2021.png', 'Colourblocked\\\\img_2026.png', 'Colourblocked\\\\img_209.png', 'Colourblocked\\\\img_2119.png', 'Colourblocked\\\\img_2204.png', 'Colourblocked\\\\img_2214.png', 'Colourblocked\\\\img_225.png', 'Colourblocked\\\\img_2265.png', 'Colourblocked\\\\img_2288.png', 'Colourblocked\\\\img_2308.png', 'Colourblocked\\\\img_2315.png', 'Colourblocked\\\\img_235.png', 'Colourblocked\\\\img_2374.png', 'Colourblocked\\\\img_2391.png', 'Colourblocked\\\\img_2421.png', 'Colourblocked\\\\img_2442.png', 'Colourblocked\\\\img_2447.png', 'Colourblocked\\\\img_2449.png', 'Colourblocked\\\\img_2455.png', 'Colourblocked\\\\img_2472.png', 'Colourblocked\\\\img_2473.png', 'Colourblocked\\\\img_2485.png', 'Colourblocked\\\\img_2574.png', 'Colourblocked\\\\img_2601.png', 'Colourblocked\\\\img_2655.png', 'Colourblocked\\\\img_2675.png', 'Colourblocked\\\\img_2727.png', 'Colourblocked\\\\img_2775.png', 'Colourblocked\\\\img_2779.png', 'Colourblocked\\\\img_2780.png', 'Colourblocked\\\\img_2821.png', 'Colourblocked\\\\img_308.png', 'Colourblocked\\\\img_314.png', 'Colourblocked\\\\img_320.png', 'Colourblocked\\\\img_321.png', 'Colourblocked\\\\img_340.png', 'Colourblocked\\\\img_469.png', 'Colourblocked\\\\img_474.png', 'Colourblocked\\\\img_510.png', 'Colourblocked\\\\img_60.png', 'Colourblocked\\\\img_637.png', 'Colourblocked\\\\img_648.png', 'Colourblocked\\\\img_652.png', 'Colourblocked\\\\img_653.png', 'Colourblocked\\\\img_658.png', 'Colourblocked\\\\img_682.png', 'Colourblocked\\\\img_688.png', 'Colourblocked\\\\img_692.png', 'Colourblocked\\\\img_703.png', 'Colourblocked\\\\img_715.png', 'Colourblocked\\\\img_76.png', 'Colourblocked\\\\img_848.png', 'Colourblocked\\\\img_853.png', 'Colourblocked\\\\img_88.png', 'Colourblocked\\\\img_902.png', 'Colourblocked\\\\img_915.png', 'Colourblocked\\\\img_932.png', 'Colourblocked\\\\img_988.png', 'Colourblocked\\\\img_99.png', 'Conversational\\\\img_1029.png', 'Conversational\\\\img_111.png', 'Conversational\\\\img_1139.png', 'Conversational\\\\img_1151.png', 'Conversational\\\\img_1369.png', 'Conversational\\\\img_1432.png', 'Conversational\\\\img_1450.png', 'Conversational\\\\img_1559.png', 'Conversational\\\\img_1560.png', 'Conversational\\\\img_1572.png', 'Conversational\\\\img_1593.png', 'Conversational\\\\img_1656.png', 'Conversational\\\\img_1701.png', 'Conversational\\\\img_174.png', 'Conversational\\\\img_1777.png', 'Conversational\\\\img_1798.png', 'Conversational\\\\img_1814.png', 'Conversational\\\\img_1818.png', 'Conversational\\\\img_1885.png', 'Conversational\\\\img_1891.png', 'Conversational\\\\img_1932.png', 'Conversational\\\\img_1953.png', 'Conversational\\\\img_2002.png', 'Conversational\\\\img_2074.png', 'Conversational\\\\img_2122.png', 'Conversational\\\\img_2130.png', 'Conversational\\\\img_2134.png', 'Conversational\\\\img_221.png', 'Conversational\\\\img_2221.png', 'Conversational\\\\img_2274.png', 'Conversational\\\\img_2302.png', 'Conversational\\\\img_2310.png', 'Conversational\\\\img_2354.png', 'Conversational\\\\img_2361.png', 'Conversational\\\\img_2384.png', 'Conversational\\\\img_2425.png', 'Conversational\\\\img_2522.png', 'Conversational\\\\img_2530.png', 'Conversational\\\\img_254.png', 'Conversational\\\\img_2599.png', 'Conversational\\\\img_2606.png', 'Conversational\\\\img_2660.png', 'Conversational\\\\img_2725.png', 'Conversational\\\\img_2867.png', 'Conversational\\\\img_297.png', 'Conversational\\\\img_37.png', 'Conversational\\\\img_401.png', 'Conversational\\\\img_444.png', 'Conversational\\\\img_468.png', 'Conversational\\\\img_498.png', 'Conversational\\\\img_540.png', 'Conversational\\\\img_61.png', 'Conversational\\\\img_65.png', 'Conversational\\\\img_667.png', 'Conversational\\\\img_693.png', 'Conversational\\\\img_731.png', 'Conversational\\\\img_827.png', 'Conversational\\\\img_87.png', 'Conversational\\\\img_879.png', 'Conversational\\\\img_919.png', 'Floral\\\\img_1053.png', 'Floral\\\\img_1068.png', 'Floral\\\\img_1070.png', 'Floral\\\\img_1105.png', 'Floral\\\\img_1134.png', 'Floral\\\\img_1144.png', 'Floral\\\\img_1145.png', 'Floral\\\\img_1234.png', 'Floral\\\\img_1241.png', 'Floral\\\\img_1294.png', 'Floral\\\\img_1384.png', 'Floral\\\\img_141.png', 'Floral\\\\img_1442.png', 'Floral\\\\img_1474.png', 'Floral\\\\img_1603.png', 'Floral\\\\img_1673.png', 'Floral\\\\img_1727.png', 'Floral\\\\img_1768.png', 'Floral\\\\img_179.png', 'Floral\\\\img_182.png', 'Floral\\\\img_1852.png', 'Floral\\\\img_1869.png', 'Floral\\\\img_1906.png', 'Floral\\\\img_2073.png', 'Floral\\\\img_208.png', 'Floral\\\\img_2105.png', 'Floral\\\\img_2141.png', 'Floral\\\\img_2169.png', 'Floral\\\\img_2224.png', 'Floral\\\\img_223.png', 'Floral\\\\img_2267.png', 'Floral\\\\img_2268.png', 'Floral\\\\img_2297.png', 'Floral\\\\img_232.png', 'Floral\\\\img_2387.png', 'Floral\\\\img_2417.png', 'Floral\\\\img_2482.png', 'Floral\\\\img_2688.png', 'Floral\\\\img_2730.png', 'Floral\\\\img_2803.png', 'Floral\\\\img_2809.png', 'Floral\\\\img_2827.png', 'Floral\\\\img_284.png', 'Floral\\\\img_344.png', 'Floral\\\\img_423.png', 'Floral\\\\img_425.png', 'Floral\\\\img_453.png', 'Floral\\\\img_506.png', 'Floral\\\\img_535.png', 'Floral\\\\img_599.png', 'Floral\\\\img_605.png', 'Floral\\\\img_72.png', 'Floral\\\\img_732.png', 'Floral\\\\img_750.png', 'Floral\\\\img_806.png', 'Floral\\\\img_878.png', 'Floral\\\\img_894.png', 'Floral\\\\img_955.png', 'Geometric\\\\img_101.png', 'Geometric\\\\img_1017.png', 'Geometric\\\\img_1108.png', 'Geometric\\\\img_1122.png', 'Geometric\\\\img_1169.png', 'Geometric\\\\img_1173.png', 'Geometric\\\\img_1177.png', 'Geometric\\\\img_1192.png', 'Geometric\\\\img_1219.png', 'Geometric\\\\img_1235.png', 'Geometric\\\\img_1307.png', 'Geometric\\\\img_1335.png', 'Geometric\\\\img_1353.png', 'Geometric\\\\img_1368.png', 'Geometric\\\\img_1377.png', 'Geometric\\\\img_1439.png', 'Geometric\\\\img_145.png', 'Geometric\\\\img_1466.png', 'Geometric\\\\img_1480.png', 'Geometric\\\\img_1481.png', 'Geometric\\\\img_1484.png', 'Geometric\\\\img_1518.png', 'Geometric\\\\img_1535.png', 'Geometric\\\\img_1571.png', 'Geometric\\\\img_1579.png', 'Geometric\\\\img_161.png', 'Geometric\\\\img_1632.png', 'Geometric\\\\img_1635.png', 'Geometric\\\\img_1667.png', 'Geometric\\\\img_1684.png', 'Geometric\\\\img_1746.png', 'Geometric\\\\img_1779.png', 'Geometric\\\\img_1785.png', 'Geometric\\\\img_183.png', 'Geometric\\\\img_185.png', 'Geometric\\\\img_1863.png', 'Geometric\\\\img_1876.png', 'Geometric\\\\img_1915.png', 'Geometric\\\\img_1952.png', 'Geometric\\\\img_2107.png', 'Geometric\\\\img_2199.png', 'Geometric\\\\img_2277.png', 'Geometric\\\\img_2353.png', 'Geometric\\\\img_236.png', 'Geometric\\\\img_2360.png', 'Geometric\\\\img_2385.png', 'Geometric\\\\img_2430.png', 'Geometric\\\\img_2456.png', 'Geometric\\\\img_2469.png', 'Geometric\\\\img_2551.png', 'Geometric\\\\img_2596.png', 'Geometric\\\\img_261.png', 'Geometric\\\\img_2661.png', 'Geometric\\\\img_2677.png', 'Geometric\\\\img_2707.png', 'Geometric\\\\img_2709.png', 'Geometric\\\\img_2712.png', 'Geometric\\\\img_2737.png', 'Geometric\\\\img_2752.png', 'Geometric\\\\img_2778.png', 'Geometric\\\\img_2788.png', 'Geometric\\\\img_2847.png', 'Geometric\\\\img_2848.png', 'Geometric\\\\img_2863.png', 'Geometric\\\\img_418.png', 'Geometric\\\\img_436.png', 'Geometric\\\\img_501.png', 'Geometric\\\\img_537.png', 'Geometric\\\\img_571.png', 'Geometric\\\\img_737.png', 'Geometric\\\\img_756.png', 'Geometric\\\\img_761.png', 'Geometric\\\\img_794.png', 'Geometric\\\\img_799.png', 'Geometric\\\\img_830.png', 'Geometric\\\\img_858.png', 'Geometric\\\\img_859.png', 'Geometric\\\\img_93.png', 'Geometric\\\\img_950.png', 'Geometric\\\\img_985.png', 'Graphic\\\\img_1055.png', 'Graphic\\\\img_1056.png', 'Graphic\\\\img_1099.png', 'Graphic\\\\img_1100.png', 'Graphic\\\\img_1138.png', 'Graphic\\\\img_1157.png', 'Graphic\\\\img_1160.png', 'Graphic\\\\img_1193.png', 'Graphic\\\\img_1212.png', 'Graphic\\\\img_1218.png', 'Graphic\\\\img_1245.png', 'Graphic\\\\img_1256.png', 'Graphic\\\\img_1257.png', 'Graphic\\\\img_1260.png', 'Graphic\\\\img_1284.png', 'Graphic\\\\img_1296.png', 'Graphic\\\\img_1299.png', 'Graphic\\\\img_1315.png', 'Graphic\\\\img_132.png', 'Graphic\\\\img_1343.png', 'Graphic\\\\img_1346.png', 'Graphic\\\\img_1356.png', 'Graphic\\\\img_136.png', 'Graphic\\\\img_1362.png', 'Graphic\\\\img_1391.png', 'Graphic\\\\img_1445.png', 'Graphic\\\\img_1454.png', 'Graphic\\\\img_1456.png', 'Graphic\\\\img_1461.png', 'Graphic\\\\img_1499.png', 'Graphic\\\\img_1508.png', 'Graphic\\\\img_1522.png', 'Graphic\\\\img_1573.png', 'Graphic\\\\img_1586.png', 'Graphic\\\\img_1618.png', 'Graphic\\\\img_1625.png', 'Graphic\\\\img_1664.png', 'Graphic\\\\img_1666.png', 'Graphic\\\\img_1692.png', 'Graphic\\\\img_1695.png', 'Graphic\\\\img_1731.png', 'Graphic\\\\img_1741.png', 'Graphic\\\\img_178.png', 'Graphic\\\\img_1780.png', 'Graphic\\\\img_1799.png', 'Graphic\\\\img_1811.png', 'Graphic\\\\img_1812.png', 'Graphic\\\\img_1855.png', 'Graphic\\\\img_1866.png', 'Graphic\\\\img_1912.png', 'Graphic\\\\img_1928.png', 'Graphic\\\\img_1956.png', 'Graphic\\\\img_198.png', 'Graphic\\\\img_1989.png', 'Graphic\\\\img_200.png', 'Graphic\\\\img_2006.png', 'Graphic\\\\img_2022.png', 'Graphic\\\\img_2068.png', 'Graphic\\\\img_2095.png', 'Graphic\\\\img_2131.png', 'Graphic\\\\img_2165.png', 'Graphic\\\\img_2166.png', 'Graphic\\\\img_2184.png', 'Graphic\\\\img_2210.png', 'Graphic\\\\img_2240.png', 'Graphic\\\\img_2241.png', 'Graphic\\\\img_2251.png', 'Graphic\\\\img_2269.png', 'Graphic\\\\img_2273.png', 'Graphic\\\\img_2304.png', 'Graphic\\\\img_2316.png', 'Graphic\\\\img_2339.png', 'Graphic\\\\img_2341.png', 'Graphic\\\\img_2355.png', 'Graphic\\\\img_2359.png', 'Graphic\\\\img_2370.png', 'Graphic\\\\img_2400.png', 'Graphic\\\\img_2413.png', 'Graphic\\\\img_2418.png', 'Graphic\\\\img_2428.png', 'Graphic\\\\img_2437.png', 'Graphic\\\\img_2454.png', 'Graphic\\\\img_246.png', 'Graphic\\\\img_2465.png', 'Graphic\\\\img_248.png', 'Graphic\\\\img_2493.png', 'Graphic\\\\img_2524.png', 'Graphic\\\\img_253.png', 'Graphic\\\\img_2612.png', 'Graphic\\\\img_262.png', 'Graphic\\\\img_2623.png', 'Graphic\\\\img_2643.png', 'Graphic\\\\img_2665.png', 'Graphic\\\\img_2667.png', 'Graphic\\\\img_2685.png', 'Graphic\\\\img_2690.png', 'Graphic\\\\img_2705.png', 'Graphic\\\\img_2722.png', 'Graphic\\\\img_2746.png', 'Graphic\\\\img_2782.png', 'Graphic\\\\img_2784.png', 'Graphic\\\\img_2828.png', 'Graphic\\\\img_2858.png', 'Graphic\\\\img_2866.png', 'Graphic\\\\img_349.png', 'Graphic\\\\img_358.png', 'Graphic\\\\img_394.png', 'Graphic\\\\img_410.png', 'Graphic\\\\img_421.png', 'Graphic\\\\img_445.png', 'Graphic\\\\img_454.png', 'Graphic\\\\img_456.png', 'Graphic\\\\img_470.png', 'Graphic\\\\img_484.png', 'Graphic\\\\img_522.png', 'Graphic\\\\img_547.png', 'Graphic\\\\img_580.png', 'Graphic\\\\img_614.png', 'Graphic\\\\img_634.png', 'Graphic\\\\img_647.png', 'Graphic\\\\img_669.png', 'Graphic\\\\img_670.png', 'Graphic\\\\img_678.png', 'Graphic\\\\img_680.png', 'Graphic\\\\img_686.png', 'Graphic\\\\img_694.png', 'Graphic\\\\img_699.png', 'Graphic\\\\img_722.png', 'Graphic\\\\img_735.png', 'Graphic\\\\img_74.png', 'Graphic\\\\img_755.png', 'Graphic\\\\img_774.png', 'Graphic\\\\img_785.png', 'Graphic\\\\img_787.png', 'Graphic\\\\img_815.png', 'Graphic\\\\img_817.png', 'Graphic\\\\img_844.png', 'Graphic\\\\img_870.png', 'Graphic\\\\img_874.png', 'Graphic\\\\img_884.png', 'Graphic\\\\img_895.png', 'Graphic\\\\img_921.png', 'Graphic\\\\img_959.png', 'Graphic\\\\img_968.png', 'Graphic\\\\img_974.png', 'Graphic\\\\img_977.png', 'Humour and Comic\\\\img_1031.png', 'Humour and Comic\\\\img_142.png', 'Humour and Comic\\\\img_1719.png', 'Humour and Comic\\\\img_219.png', 'Humour and Comic\\\\img_231.png', 'Humour and Comic\\\\img_241.png', 'Humour and Comic\\\\img_2625.png', 'Humour and Comic\\\\img_2694.png', 'Humour and Comic\\\\img_2783.png', 'Humour and Comic\\\\img_51.png', 'Humour and Comic\\\\img_826.png', 'Humour and Comic\\\\img_846.png', 'Music\\\\img_1012.png', 'Music\\\\img_1198.png', 'Music\\\\img_1355.png', 'Music\\\\img_1366.png', 'Music\\\\img_1393.png', 'Music\\\\img_1580.png', 'Music\\\\img_1796.png', 'Music\\\\img_2208.png', 'Music\\\\img_2401.png', 'Music\\\\img_2404.png', 'Music\\\\img_2700.png', 'Music\\\\img_2738.png', 'Music\\\\img_392.png', 'Music\\\\img_638.png', 'Music\\\\img_862.png', 'Music\\\\img_917.png', 'People and Places\\\\img_103.png', 'People and Places\\\\img_1054.png', 'People and Places\\\\img_1085.png', 'People and Places\\\\img_1106.png', 'People and Places\\\\img_1121.png', 'People and Places\\\\img_1125.png', 'People and Places\\\\img_1187.png', 'People and Places\\\\img_1195.png', 'People and Places\\\\img_1201.png', 'People and Places\\\\img_1222.png', 'People and Places\\\\img_1236.png', 'People and Places\\\\img_129.png', 'People and Places\\\\img_1326.png', 'People and Places\\\\img_133.png', 'People and Places\\\\img_1331.png', 'People and Places\\\\img_1383.png', 'People and Places\\\\img_1429.png', 'People and Places\\\\img_1449.png', 'People and Places\\\\img_1475.png', 'People and Places\\\\img_1489.png', 'People and Places\\\\img_152.png', 'People and Places\\\\img_1546.png', 'People and Places\\\\img_159.png', 'People and Places\\\\img_170.png', 'People and Places\\\\img_1761.png', 'People and Places\\\\img_1884.png', 'People and Places\\\\img_1893.png', 'People and Places\\\\img_1899.png', 'People and Places\\\\img_1903.png', 'People and Places\\\\img_191.png', 'People and Places\\\\img_1930.png', 'People and Places\\\\img_1935.png', 'People and Places\\\\img_1948.png', 'People and Places\\\\img_212.png', 'People and Places\\\\img_2149.png', 'People and Places\\\\img_2164.png', 'People and Places\\\\img_2182.png', 'People and Places\\\\img_2186.png', 'People and Places\\\\img_2219.png', 'People and Places\\\\img_2259.png', 'People and Places\\\\img_2324.png', 'People and Places\\\\img_2345.png', 'People and Places\\\\img_2388.png', 'People and Places\\\\img_2399.png', 'People and Places\\\\img_2451.png', 'People and Places\\\\img_2583.png', 'People and Places\\\\img_2591.png', 'People and Places\\\\img_2613.png', 'People and Places\\\\img_2693.png', 'People and Places\\\\img_2765.png', 'People and Places\\\\img_2832.png', 'People and Places\\\\img_2845.png', 'People and Places\\\\img_33.png', 'People and Places\\\\img_335.png', 'People and Places\\\\img_373.png', 'People and Places\\\\img_378.png', 'People and Places\\\\img_408.png', 'People and Places\\\\img_435.png', 'People and Places\\\\img_462.png', 'People and Places\\\\img_511.png', 'People and Places\\\\img_544.png', 'People and Places\\\\img_559.png', 'People and Places\\\\img_578.png', 'People and Places\\\\img_642.png', 'People and Places\\\\img_730.png', 'People and Places\\\\img_739.png', 'People and Places\\\\img_766.png', 'People and Places\\\\img_833.png', 'People and Places\\\\img_891.png', 'People and Places\\\\img_935.png', 'People and Places\\\\img_971.png', 'People and Places\\\\img_979.png', 'People and Places\\\\img_992.png', 'Polka Dots\\\\img_30.png', 'Self Design\\\\img_1154.png', 'Self Design\\\\img_1479.png', 'Self Design\\\\img_1542.png', 'Self Design\\\\img_2646.png', 'Self Design\\\\img_2856.png', 'Self Design\\\\img_327.png', 'Self Design\\\\img_529.png', 'Self Design\\\\img_712.png', 'Solid\\\\img_0.png', 'Solid\\\\img_1.png', 'Solid\\\\img_100.png', 'Solid\\\\img_1000.png', 'Solid\\\\img_1003.png', 'Solid\\\\img_1004.png', 'Solid\\\\img_1006.png', 'Solid\\\\img_1007.png', 'Solid\\\\img_1009.png', 'Solid\\\\img_1010.png', 'Solid\\\\img_1015.png', 'Solid\\\\img_1019.png', 'Solid\\\\img_1023.png', 'Solid\\\\img_1025.png', 'Solid\\\\img_1028.png', 'Solid\\\\img_1032.png', 'Solid\\\\img_1034.png', 'Solid\\\\img_1039.png', 'Solid\\\\img_1040.png', 'Solid\\\\img_1041.png', 'Solid\\\\img_1042.png', 'Solid\\\\img_1043.png', 'Solid\\\\img_1044.png', 'Solid\\\\img_1045.png', 'Solid\\\\img_1047.png', 'Solid\\\\img_1048.png', 'Solid\\\\img_1049.png', 'Solid\\\\img_105.png', 'Solid\\\\img_1050.png', 'Solid\\\\img_1052.png', 'Solid\\\\img_1061.png', 'Solid\\\\img_1062.png', 'Solid\\\\img_1067.png', 'Solid\\\\img_1069.png', 'Solid\\\\img_1071.png', 'Solid\\\\img_1072.png', 'Solid\\\\img_1074.png', 'Solid\\\\img_1075.png', 'Solid\\\\img_1076.png', 'Solid\\\\img_1077.png', 'Solid\\\\img_108.png', 'Solid\\\\img_1080.png', 'Solid\\\\img_1081.png', 'Solid\\\\img_1088.png', 'Solid\\\\img_109.png', 'Solid\\\\img_1091.png', 'Solid\\\\img_1092.png', 'Solid\\\\img_1094.png', 'Solid\\\\img_1096.png', 'Solid\\\\img_1098.png', 'Solid\\\\img_11.png', 'Solid\\\\img_1101.png', 'Solid\\\\img_1109.png', 'Solid\\\\img_1112.png', 'Solid\\\\img_1113.png', 'Solid\\\\img_1114.png', 'Solid\\\\img_1115.png', 'Solid\\\\img_1116.png', 'Solid\\\\img_1117.png', 'Solid\\\\img_1123.png', 'Solid\\\\img_1124.png', 'Solid\\\\img_1126.png', 'Solid\\\\img_1127.png', 'Solid\\\\img_1129.png', 'Solid\\\\img_113.png', 'Solid\\\\img_1130.png', 'Solid\\\\img_1132.png', 'Solid\\\\img_1133.png', 'Solid\\\\img_1136.png', 'Solid\\\\img_114.png', 'Solid\\\\img_1142.png', 'Solid\\\\img_1143.png', 'Solid\\\\img_1155.png', 'Solid\\\\img_1156.png', 'Solid\\\\img_1159.png', 'Solid\\\\img_116.png', 'Solid\\\\img_1163.png', 'Solid\\\\img_1164.png', 'Solid\\\\img_1165.png', 'Solid\\\\img_1167.png', 'Solid\\\\img_1168.png', 'Solid\\\\img_1174.png', 'Solid\\\\img_1176.png', 'Solid\\\\img_1179.png', 'Solid\\\\img_118.png', 'Solid\\\\img_1182.png', 'Solid\\\\img_1184.png', 'Solid\\\\img_1186.png', 'Solid\\\\img_1188.png', 'Solid\\\\img_1190.png', 'Solid\\\\img_1191.png', 'Solid\\\\img_1196.png', 'Solid\\\\img_1197.png', 'Solid\\\\img_1199.png', 'Solid\\\\img_120.png', 'Solid\\\\img_1205.png', 'Solid\\\\img_1206.png', 'Solid\\\\img_1208.png', 'Solid\\\\img_121.png', 'Solid\\\\img_1210.png', 'Solid\\\\img_1216.png', 'Solid\\\\img_1223.png', 'Solid\\\\img_1224.png', 'Solid\\\\img_1227.png', 'Solid\\\\img_1228.png', 'Solid\\\\img_1229.png', 'Solid\\\\img_1230.png', 'Solid\\\\img_1231.png', 'Solid\\\\img_1233.png', 'Solid\\\\img_1238.png', 'Solid\\\\img_1240.png', 'Solid\\\\img_1242.png', 'Solid\\\\img_1243.png', 'Solid\\\\img_1244.png', 'Solid\\\\img_1247.png', 'Solid\\\\img_1248.png', 'Solid\\\\img_1250.png', 'Solid\\\\img_1252.png', 'Solid\\\\img_1254.png', 'Solid\\\\img_1255.png', 'Solid\\\\img_1263.png', 'Solid\\\\img_1265.png', 'Solid\\\\img_1268.png', 'Solid\\\\img_1275.png', 'Solid\\\\img_1277.png', 'Solid\\\\img_1278.png', 'Solid\\\\img_1279.png', 'Solid\\\\img_128.png', 'Solid\\\\img_1282.png', 'Solid\\\\img_1285.png', 'Solid\\\\img_1288.png', 'Solid\\\\img_1289.png', 'Solid\\\\img_1293.png', 'Solid\\\\img_1295.png', 'Solid\\\\img_13.png', 'Solid\\\\img_1300.png', 'Solid\\\\img_1301.png', 'Solid\\\\img_1302.png', 'Solid\\\\img_131.png', 'Solid\\\\img_1312.png', 'Solid\\\\img_1316.png', 'Solid\\\\img_1319.png', 'Solid\\\\img_1327.png', 'Solid\\\\img_1330.png', 'Solid\\\\img_1334.png', 'Solid\\\\img_1337.png', 'Solid\\\\img_1340.png', 'Solid\\\\img_1341.png', 'Solid\\\\img_1345.png', 'Solid\\\\img_1347.png', 'Solid\\\\img_1348.png', 'Solid\\\\img_1350.png', 'Solid\\\\img_1354.png', 'Solid\\\\img_1357.png', 'Solid\\\\img_1359.png', 'Solid\\\\img_1364.png', 'Solid\\\\img_1367.png', 'Solid\\\\img_1371.png', 'Solid\\\\img_1372.png', 'Solid\\\\img_1373.png', 'Solid\\\\img_1374.png', 'Solid\\\\img_1381.png', 'Solid\\\\img_1385.png', 'Solid\\\\img_1386.png', 'Solid\\\\img_1388.png', 'Solid\\\\img_139.png', 'Solid\\\\img_1390.png', 'Solid\\\\img_1392.png', 'Solid\\\\img_1395.png', 'Solid\\\\img_1399.png', 'Solid\\\\img_14.png', 'Solid\\\\img_1400.png', 'Solid\\\\img_1403.png', 'Solid\\\\img_1404.png', 'Solid\\\\img_1408.png', 'Solid\\\\img_1410.png', 'Solid\\\\img_1411.png', 'Solid\\\\img_1412.png', 'Solid\\\\img_1414.png', 'Solid\\\\img_1415.png', 'Solid\\\\img_1420.png', 'Solid\\\\img_1422.png', 'Solid\\\\img_1423.png', 'Solid\\\\img_1426.png', 'Solid\\\\img_1427.png', 'Solid\\\\img_1428.png', 'Solid\\\\img_1431.png', 'Solid\\\\img_1433.png', 'Solid\\\\img_1436.png', 'Solid\\\\img_144.png', 'Solid\\\\img_1440.png', 'Solid\\\\img_1448.png', 'Solid\\\\img_1452.png', 'Solid\\\\img_1453.png', 'Solid\\\\img_1458.png', 'Solid\\\\img_1459.png', 'Solid\\\\img_1460.png', 'Solid\\\\img_1470.png', 'Solid\\\\img_1471.png', 'Solid\\\\img_1472.png', 'Solid\\\\img_1476.png', 'Solid\\\\img_1478.png', 'Solid\\\\img_148.png', 'Solid\\\\img_1483.png', 'Solid\\\\img_1485.png', 'Solid\\\\img_1487.png', 'Solid\\\\img_1491.png', 'Solid\\\\img_1492.png', 'Solid\\\\img_1493.png', 'Solid\\\\img_1500.png', 'Solid\\\\img_1501.png', 'Solid\\\\img_1503.png', 'Solid\\\\img_1504.png', 'Solid\\\\img_1505.png', 'Solid\\\\img_1507.png', 'Solid\\\\img_1510.png', 'Solid\\\\img_1511.png', 'Solid\\\\img_1514.png', 'Solid\\\\img_1516.png', 'Solid\\\\img_1517.png', 'Solid\\\\img_1519.png', 'Solid\\\\img_1521.png', 'Solid\\\\img_1523.png', 'Solid\\\\img_1524.png', 'Solid\\\\img_1527.png', 'Solid\\\\img_1530.png', 'Solid\\\\img_1534.png', 'Solid\\\\img_1536.png', 'Solid\\\\img_1540.png', 'Solid\\\\img_1543.png', 'Solid\\\\img_1545.png', 'Solid\\\\img_1547.png', 'Solid\\\\img_1548.png', 'Solid\\\\img_1549.png', 'Solid\\\\img_155.png', 'Solid\\\\img_1552.png', 'Solid\\\\img_1557.png', 'Solid\\\\img_1558.png', 'Solid\\\\img_156.png', 'Solid\\\\img_1561.png', 'Solid\\\\img_1563.png', 'Solid\\\\img_1569.png', 'Solid\\\\img_1570.png', 'Solid\\\\img_1574.png', 'Solid\\\\img_158.png', 'Solid\\\\img_1583.png', 'Solid\\\\img_1585.png', 'Solid\\\\img_1587.png', 'Solid\\\\img_1588.png', 'Solid\\\\img_1591.png', 'Solid\\\\img_1594.png', 'Solid\\\\img_1598.png', 'Solid\\\\img_1599.png', 'Solid\\\\img_16.png', 'Solid\\\\img_1600.png', 'Solid\\\\img_1602.png', 'Solid\\\\img_1604.png', 'Solid\\\\img_1605.png', 'Solid\\\\img_1606.png', 'Solid\\\\img_1609.png', 'Solid\\\\img_1610.png', 'Solid\\\\img_1611.png', 'Solid\\\\img_1613.png', 'Solid\\\\img_1615.png', 'Solid\\\\img_162.png', 'Solid\\\\img_1621.png', 'Solid\\\\img_1623.png', 'Solid\\\\img_1628.png', 'Solid\\\\img_1629.png', 'Solid\\\\img_1631.png', 'Solid\\\\img_1633.png', 'Solid\\\\img_164.png', 'Solid\\\\img_1641.png', 'Solid\\\\img_1642.png', 'Solid\\\\img_1644.png', 'Solid\\\\img_1645.png', 'Solid\\\\img_1653.png', 'Solid\\\\img_1655.png', 'Solid\\\\img_1657.png', 'Solid\\\\img_1658.png', 'Solid\\\\img_1660.png', 'Solid\\\\img_1662.png', 'Solid\\\\img_1663.png', 'Solid\\\\img_1668.png', 'Solid\\\\img_1669.png', 'Solid\\\\img_1670.png', 'Solid\\\\img_1671.png', 'Solid\\\\img_1674.png', 'Solid\\\\img_1675.png', 'Solid\\\\img_1678.png', 'Solid\\\\img_1679.png', 'Solid\\\\img_168.png', 'Solid\\\\img_1681.png', 'Solid\\\\img_1683.png', 'Solid\\\\img_1685.png', 'Solid\\\\img_1686.png', 'Solid\\\\img_1689.png', 'Solid\\\\img_1691.png', 'Solid\\\\img_17.png', 'Solid\\\\img_1705.png', 'Solid\\\\img_1706.png', 'Solid\\\\img_1707.png', 'Solid\\\\img_1708.png', 'Solid\\\\img_1709.png', 'Solid\\\\img_171.png', 'Solid\\\\img_1711.png', 'Solid\\\\img_1716.png', 'Solid\\\\img_1717.png', 'Solid\\\\img_1718.png', 'Solid\\\\img_1721.png', 'Solid\\\\img_1728.png', 'Solid\\\\img_1729.png', 'Solid\\\\img_1733.png', 'Solid\\\\img_1735.png', 'Solid\\\\img_1737.png', 'Solid\\\\img_1738.png', 'Solid\\\\img_175.png', 'Solid\\\\img_1750.png', 'Solid\\\\img_1755.png', 'Solid\\\\img_176.png', 'Solid\\\\img_1760.png', 'Solid\\\\img_1763.png', 'Solid\\\\img_1767.png', 'Solid\\\\img_1769.png', 'Solid\\\\img_177.png', 'Solid\\\\img_1772.png', 'Solid\\\\img_1773.png', 'Solid\\\\img_1774.png', 'Solid\\\\img_1775.png', 'Solid\\\\img_1784.png', 'Solid\\\\img_1788.png', 'Solid\\\\img_1789.png', 'Solid\\\\img_1790.png', 'Solid\\\\img_1791.png', 'Solid\\\\img_1795.png', 'Solid\\\\img_1797.png', 'Solid\\\\img_180.png', 'Solid\\\\img_1805.png', 'Solid\\\\img_1807.png', 'Solid\\\\img_1808.png', 'Solid\\\\img_1809.png', 'Solid\\\\img_181.png', 'Solid\\\\img_1813.png', 'Solid\\\\img_1816.png', 'Solid\\\\img_1820.png', 'Solid\\\\img_1828.png', 'Solid\\\\img_1831.png', 'Solid\\\\img_1832.png', 'Solid\\\\img_1837.png', 'Solid\\\\img_184.png', 'Solid\\\\img_1842.png', 'Solid\\\\img_1843.png', 'Solid\\\\img_1847.png', 'Solid\\\\img_1849.png', 'Solid\\\\img_1853.png', 'Solid\\\\img_1858.png', 'Solid\\\\img_1862.png', 'Solid\\\\img_1864.png', 'Solid\\\\img_1865.png', 'Solid\\\\img_1867.png', 'Solid\\\\img_1868.png', 'Solid\\\\img_1873.png', 'Solid\\\\img_1874.png', 'Solid\\\\img_1879.png', 'Solid\\\\img_1880.png', 'Solid\\\\img_1882.png', 'Solid\\\\img_1886.png', 'Solid\\\\img_1887.png', 'Solid\\\\img_1888.png', 'Solid\\\\img_189.png', 'Solid\\\\img_1896.png', 'Solid\\\\img_1898.png', 'Solid\\\\img_19.png', 'Solid\\\\img_1900.png', 'Solid\\\\img_1901.png', 'Solid\\\\img_1902.png', 'Solid\\\\img_1904.png', 'Solid\\\\img_1905.png', 'Solid\\\\img_1907.png', 'Solid\\\\img_1911.png', 'Solid\\\\img_1914.png', 'Solid\\\\img_1916.png', 'Solid\\\\img_1917.png', 'Solid\\\\img_1918.png', 'Solid\\\\img_1919.png', 'Solid\\\\img_192.png', 'Solid\\\\img_1922.png', 'Solid\\\\img_1923.png', 'Solid\\\\img_1924.png', 'Solid\\\\img_1925.png', 'Solid\\\\img_1927.png', 'Solid\\\\img_1929.png', 'Solid\\\\img_193.png', 'Solid\\\\img_1933.png', 'Solid\\\\img_1936.png', 'Solid\\\\img_1937.png', 'Solid\\\\img_1940.png', 'Solid\\\\img_1944.png', 'Solid\\\\img_1949.png', 'Solid\\\\img_195.png', 'Solid\\\\img_1950.png', 'Solid\\\\img_1951.png', 'Solid\\\\img_1954.png', 'Solid\\\\img_1957.png', 'Solid\\\\img_1959.png', 'Solid\\\\img_1961.png', 'Solid\\\\img_1963.png', 'Solid\\\\img_1965.png', 'Solid\\\\img_1966.png', 'Solid\\\\img_1968.png', 'Solid\\\\img_1969.png', 'Solid\\\\img_197.png', 'Solid\\\\img_1970.png', 'Solid\\\\img_1971.png', 'Solid\\\\img_1975.png', 'Solid\\\\img_1977.png', 'Solid\\\\img_1979.png', 'Solid\\\\img_1984.png', 'Solid\\\\img_1985.png', 'Solid\\\\img_1986.png', 'Solid\\\\img_1988.png', 'Solid\\\\img_199.png', 'Solid\\\\img_1990.png', 'Solid\\\\img_1995.png', 'Solid\\\\img_1996.png', 'Solid\\\\img_1999.png', 'Solid\\\\img_2.png', 'Solid\\\\img_20.png', 'Solid\\\\img_2003.png', 'Solid\\\\img_2007.png', 'Solid\\\\img_2009.png', 'Solid\\\\img_2011.png', 'Solid\\\\img_2015.png', 'Solid\\\\img_2016.png', 'Solid\\\\img_2020.png', 'Solid\\\\img_2023.png', 'Solid\\\\img_2028.png', 'Solid\\\\img_203.png', 'Solid\\\\img_2031.png', 'Solid\\\\img_2032.png', 'Solid\\\\img_2033.png', 'Solid\\\\img_2036.png', 'Solid\\\\img_2038.png', 'Solid\\\\img_2041.png', 'Solid\\\\img_2042.png', 'Solid\\\\img_2043.png', 'Solid\\\\img_2046.png', 'Solid\\\\img_2048.png', 'Solid\\\\img_2049.png', 'Solid\\\\img_2050.png', 'Solid\\\\img_2051.png', 'Solid\\\\img_2053.png', 'Solid\\\\img_2054.png', 'Solid\\\\img_2056.png', 'Solid\\\\img_2058.png', 'Solid\\\\img_2059.png', 'Solid\\\\img_206.png', 'Solid\\\\img_2061.png', 'Solid\\\\img_2062.png', 'Solid\\\\img_2065.png', 'Solid\\\\img_2066.png', 'Solid\\\\img_2067.png', 'Solid\\\\img_2069.png', 'Solid\\\\img_207.png', 'Solid\\\\img_2070.png', 'Solid\\\\img_2071.png', 'Solid\\\\img_2075.png', 'Solid\\\\img_2077.png', 'Solid\\\\img_2079.png', 'Solid\\\\img_2081.png', 'Solid\\\\img_2082.png', 'Solid\\\\img_2084.png', 'Solid\\\\img_2087.png', 'Solid\\\\img_2097.png', 'Solid\\\\img_2099.png', 'Solid\\\\img_21.png', 'Solid\\\\img_210.png', 'Solid\\\\img_2103.png', 'Solid\\\\img_2106.png', 'Solid\\\\img_2110.png', 'Solid\\\\img_2113.png', 'Solid\\\\img_2114.png', 'Solid\\\\img_2116.png', 'Solid\\\\img_2117.png', 'Solid\\\\img_2118.png', 'Solid\\\\img_2121.png', 'Solid\\\\img_2123.png', 'Solid\\\\img_2128.png', 'Solid\\\\img_2129.png', 'Solid\\\\img_213.png', 'Solid\\\\img_2132.png', 'Solid\\\\img_2133.png', 'Solid\\\\img_2136.png', 'Solid\\\\img_2139.png', 'Solid\\\\img_2140.png', 'Solid\\\\img_2142.png', 'Solid\\\\img_2148.png', 'Solid\\\\img_2150.png', 'Solid\\\\img_2151.png', 'Solid\\\\img_2152.png', 'Solid\\\\img_2156.png', 'Solid\\\\img_2157.png', 'Solid\\\\img_216.png', 'Solid\\\\img_2161.png', 'Solid\\\\img_2167.png', 'Solid\\\\img_2170.png', 'Solid\\\\img_2171.png', 'Solid\\\\img_2173.png', 'Solid\\\\img_2175.png', 'Solid\\\\img_2176.png', 'Solid\\\\img_2178.png', 'Solid\\\\img_218.png', 'Solid\\\\img_2181.png', 'Solid\\\\img_2188.png', 'Solid\\\\img_2190.png', 'Solid\\\\img_2191.png', 'Solid\\\\img_2195.png', 'Solid\\\\img_2196.png', 'Solid\\\\img_2197.png', 'Solid\\\\img_22.png', 'Solid\\\\img_2200.png', 'Solid\\\\img_2203.png', 'Solid\\\\img_2209.png', 'Solid\\\\img_2213.png', 'Solid\\\\img_2218.png', 'Solid\\\\img_222.png', 'Solid\\\\img_2222.png', 'Solid\\\\img_2223.png', 'Solid\\\\img_2232.png', 'Solid\\\\img_2235.png', 'Solid\\\\img_2236.png', 'Solid\\\\img_2238.png', 'Solid\\\\img_2239.png', 'Solid\\\\img_2242.png', 'Solid\\\\img_2244.png', 'Solid\\\\img_2246.png', 'Solid\\\\img_2249.png', 'Solid\\\\img_2250.png', 'Solid\\\\img_2261.png', 'Solid\\\\img_2262.png', 'Solid\\\\img_2272.png', 'Solid\\\\img_2275.png', 'Solid\\\\img_2276.png', 'Solid\\\\img_2278.png', 'Solid\\\\img_2282.png', 'Solid\\\\img_2284.png', 'Solid\\\\img_2285.png', 'Solid\\\\img_229.png', 'Solid\\\\img_2290.png', 'Solid\\\\img_2291.png', 'Solid\\\\img_2292.png', 'Solid\\\\img_2294.png', 'Solid\\\\img_2295.png', 'Solid\\\\img_2296.png', 'Solid\\\\img_23.png', 'Solid\\\\img_230.png', 'Solid\\\\img_2301.png', 'Solid\\\\img_2303.png', 'Solid\\\\img_2307.png', 'Solid\\\\img_2311.png', 'Solid\\\\img_2313.png', 'Solid\\\\img_2319.png', 'Solid\\\\img_2323.png', 'Solid\\\\img_2325.png', 'Solid\\\\img_2326.png', 'Solid\\\\img_2327.png', 'Solid\\\\img_2328.png', 'Solid\\\\img_233.png', 'Solid\\\\img_2334.png', 'Solid\\\\img_2337.png', 'Solid\\\\img_234.png', 'Solid\\\\img_2340.png', 'Solid\\\\img_2342.png', 'Solid\\\\img_2346.png', 'Solid\\\\img_2347.png', 'Solid\\\\img_2348.png', 'Solid\\\\img_2349.png', 'Solid\\\\img_2356.png', 'Solid\\\\img_2357.png', 'Solid\\\\img_2367.png', 'Solid\\\\img_2373.png', 'Solid\\\\img_2375.png', 'Solid\\\\img_2378.png', 'Solid\\\\img_2379.png', 'Solid\\\\img_2381.png', 'Solid\\\\img_239.png', 'Solid\\\\img_2390.png', 'Solid\\\\img_2392.png', 'Solid\\\\img_2394.png', 'Solid\\\\img_2395.png', 'Solid\\\\img_2397.png', 'Solid\\\\img_2398.png', 'Solid\\\\img_240.png', 'Solid\\\\img_2402.png', 'Solid\\\\img_2405.png', 'Solid\\\\img_2409.png', 'Solid\\\\img_2410.png', 'Solid\\\\img_2414.png', 'Solid\\\\img_2416.png', 'Solid\\\\img_242.png', 'Solid\\\\img_2424.png', 'Solid\\\\img_243.png', 'Solid\\\\img_2432.png', 'Solid\\\\img_2433.png', 'Solid\\\\img_2435.png', 'Solid\\\\img_244.png', 'Solid\\\\img_2441.png', 'Solid\\\\img_2446.png', 'Solid\\\\img_2448.png', 'Solid\\\\img_2453.png', 'Solid\\\\img_2458.png', 'Solid\\\\img_2459.png', 'Solid\\\\img_2460.png', 'Solid\\\\img_2464.png', 'Solid\\\\img_2466.png', 'Solid\\\\img_2467.png', 'Solid\\\\img_2468.png', 'Solid\\\\img_2471.png', 'Solid\\\\img_2475.png', 'Solid\\\\img_2478.png', 'Solid\\\\img_2480.png', 'Solid\\\\img_2484.png', 'Solid\\\\img_2488.png', 'Solid\\\\img_249.png', 'Solid\\\\img_2490.png', 'Solid\\\\img_2491.png', 'Solid\\\\img_2496.png', 'Solid\\\\img_2498.png', 'Solid\\\\img_2499.png', 'Solid\\\\img_25.png', 'Solid\\\\img_2505.png', 'Solid\\\\img_2508.png', 'Solid\\\\img_2509.png', 'Solid\\\\img_251.png', 'Solid\\\\img_2512.png', 'Solid\\\\img_2513.png', 'Solid\\\\img_2516.png', 'Solid\\\\img_2517.png', 'Solid\\\\img_252.png', 'Solid\\\\img_2523.png', 'Solid\\\\img_2525.png', 'Solid\\\\img_2527.png', 'Solid\\\\img_2528.png', 'Solid\\\\img_2529.png', 'Solid\\\\img_2532.png', 'Solid\\\\img_2535.png', 'Solid\\\\img_2537.png', 'Solid\\\\img_2541.png', 'Solid\\\\img_2542.png', 'Solid\\\\img_2544.png', 'Solid\\\\img_2545.png', 'Solid\\\\img_2546.png', 'Solid\\\\img_2548.png', 'Solid\\\\img_255.png', 'Solid\\\\img_2550.png', 'Solid\\\\img_2555.png', 'Solid\\\\img_2557.png', 'Solid\\\\img_256.png', 'Solid\\\\img_2560.png', 'Solid\\\\img_2562.png', 'Solid\\\\img_2564.png', 'Solid\\\\img_2568.png', 'Solid\\\\img_257.png', 'Solid\\\\img_2570.png', 'Solid\\\\img_2575.png', 'Solid\\\\img_2577.png', 'Solid\\\\img_2579.png', 'Solid\\\\img_2580.png', 'Solid\\\\img_2589.png', 'Solid\\\\img_2593.png', 'Solid\\\\img_2594.png', 'Solid\\\\img_2597.png', 'Solid\\\\img_2598.png', 'Solid\\\\img_26.png', 'Solid\\\\img_2602.png', 'Solid\\\\img_2603.png', 'Solid\\\\img_2605.png', 'Solid\\\\img_2607.png', 'Solid\\\\img_2609.png', 'Solid\\\\img_2610.png', 'Solid\\\\img_2614.png', 'Solid\\\\img_2617.png', 'Solid\\\\img_2618.png', 'Solid\\\\img_2619.png', 'Solid\\\\img_2622.png', 'Solid\\\\img_2627.png', 'Solid\\\\img_2628.png', 'Solid\\\\img_263.png', 'Solid\\\\img_2630.png', 'Solid\\\\img_2631.png', 'Solid\\\\img_2632.png', 'Solid\\\\img_2633.png', 'Solid\\\\img_2636.png', 'Solid\\\\img_2637.png', 'Solid\\\\img_2638.png', 'Solid\\\\img_2639.png', 'Solid\\\\img_264.png', 'Solid\\\\img_2641.png', 'Solid\\\\img_2644.png', 'Solid\\\\img_2649.png', 'Solid\\\\img_265.png', 'Solid\\\\img_2653.png', 'Solid\\\\img_2658.png', 'Solid\\\\img_266.png', 'Solid\\\\img_2662.png', 'Solid\\\\img_2663.png', 'Solid\\\\img_2668.png', 'Solid\\\\img_2669.png', 'Solid\\\\img_2670.png', 'Solid\\\\img_2671.png', 'Solid\\\\img_2674.png', 'Solid\\\\img_2680.png', 'Solid\\\\img_2683.png', 'Solid\\\\img_2686.png', 'Solid\\\\img_2687.png', 'Solid\\\\img_2689.png', 'Solid\\\\img_269.png', 'Solid\\\\img_2696.png', 'Solid\\\\img_2698.png', 'Solid\\\\img_2699.png', 'Solid\\\\img_27.png', 'Solid\\\\img_270.png', 'Solid\\\\img_2703.png', 'Solid\\\\img_2704.png', 'Solid\\\\img_2708.png', 'Solid\\\\img_2711.png', 'Solid\\\\img_2714.png', 'Solid\\\\img_272.png', 'Solid\\\\img_2723.png', 'Solid\\\\img_2724.png', 'Solid\\\\img_2726.png', 'Solid\\\\img_273.png', 'Solid\\\\img_2734.png', 'Solid\\\\img_274.png', 'Solid\\\\img_2740.png', 'Solid\\\\img_2742.png', 'Solid\\\\img_2743.png', 'Solid\\\\img_2744.png', 'Solid\\\\img_2745.png', 'Solid\\\\img_2748.png', 'Solid\\\\img_2749.png', 'Solid\\\\img_275.png', 'Solid\\\\img_2751.png', 'Solid\\\\img_2754.png', 'Solid\\\\img_2757.png', 'Solid\\\\img_2758.png', 'Solid\\\\img_276.png', 'Solid\\\\img_2764.png', 'Solid\\\\img_2766.png', 'Solid\\\\img_2770.png', 'Solid\\\\img_2774.png', 'Solid\\\\img_2776.png', 'Solid\\\\img_2781.png', 'Solid\\\\img_2785.png', 'Solid\\\\img_2786.png', 'Solid\\\\img_2787.png', 'Solid\\\\img_2790.png', 'Solid\\\\img_2793.png', 'Solid\\\\img_2795.png', 'Solid\\\\img_2796.png', 'Solid\\\\img_2798.png', 'Solid\\\\img_2799.png', 'Solid\\\\img_280.png', 'Solid\\\\img_2802.png', 'Solid\\\\img_2807.png', 'Solid\\\\img_281.png', 'Solid\\\\img_2813.png', 'Solid\\\\img_2814.png', 'Solid\\\\img_2815.png', 'Solid\\\\img_2816.png', 'Solid\\\\img_2819.png', 'Solid\\\\img_2820.png', 'Solid\\\\img_2829.png', 'Solid\\\\img_283.png', 'Solid\\\\img_2830.png', 'Solid\\\\img_2831.png', 'Solid\\\\img_2834.png', 'Solid\\\\img_2835.png', 'Solid\\\\img_2838.png', 'Solid\\\\img_2841.png', 'Solid\\\\img_2842.png', 'Solid\\\\img_2843.png', 'Solid\\\\img_2859.png', 'Solid\\\\img_286.png', 'Solid\\\\img_2860.png', 'Solid\\\\img_2862.png', 'Solid\\\\img_2864.png', 'Solid\\\\img_287.png', 'Solid\\\\img_288.png', 'Solid\\\\img_29.png', 'Solid\\\\img_290.png', 'Solid\\\\img_291.png', 'Solid\\\\img_292.png', 'Solid\\\\img_295.png', 'Solid\\\\img_296.png', 'Solid\\\\img_3.png', 'Solid\\\\img_301.png', 'Solid\\\\img_306.png', 'Solid\\\\img_307.png', 'Solid\\\\img_309.png', 'Solid\\\\img_31.png', 'Solid\\\\img_310.png', 'Solid\\\\img_317.png', 'Solid\\\\img_318.png', 'Solid\\\\img_32.png', 'Solid\\\\img_324.png', 'Solid\\\\img_325.png', 'Solid\\\\img_326.png', 'Solid\\\\img_329.png', 'Solid\\\\img_331.png', 'Solid\\\\img_334.png', 'Solid\\\\img_336.png', 'Solid\\\\img_337.png', 'Solid\\\\img_341.png', 'Solid\\\\img_342.png', 'Solid\\\\img_346.png', 'Solid\\\\img_35.png', 'Solid\\\\img_352.png', 'Solid\\\\img_355.png', 'Solid\\\\img_359.png', 'Solid\\\\img_361.png', 'Solid\\\\img_365.png', 'Solid\\\\img_371.png', 'Solid\\\\img_376.png', 'Solid\\\\img_377.png', 'Solid\\\\img_382.png', 'Solid\\\\img_383.png', 'Solid\\\\img_388.png', 'Solid\\\\img_389.png', 'Solid\\\\img_39.png', 'Solid\\\\img_390.png', 'Solid\\\\img_393.png', 'Solid\\\\img_395.png', 'Solid\\\\img_398.png', 'Solid\\\\img_399.png', 'Solid\\\\img_4.png', 'Solid\\\\img_40.png', 'Solid\\\\img_405.png', 'Solid\\\\img_409.png', 'Solid\\\\img_41.png', 'Solid\\\\img_411.png', 'Solid\\\\img_415.png', 'Solid\\\\img_419.png', 'Solid\\\\img_420.png', 'Solid\\\\img_422.png', 'Solid\\\\img_424.png', 'Solid\\\\img_428.png', 'Solid\\\\img_429.png', 'Solid\\\\img_430.png', 'Solid\\\\img_431.png', 'Solid\\\\img_432.png', 'Solid\\\\img_433.png', 'Solid\\\\img_439.png', 'Solid\\\\img_44.png', 'Solid\\\\img_451.png', 'Solid\\\\img_452.png', 'Solid\\\\img_457.png', 'Solid\\\\img_458.png', 'Solid\\\\img_460.png', 'Solid\\\\img_465.png', 'Solid\\\\img_466.png', 'Solid\\\\img_467.png', 'Solid\\\\img_472.png', 'Solid\\\\img_475.png', 'Solid\\\\img_478.png', 'Solid\\\\img_481.png', 'Solid\\\\img_482.png', 'Solid\\\\img_483.png', 'Solid\\\\img_486.png', 'Solid\\\\img_49.png', 'Solid\\\\img_490.png', 'Solid\\\\img_492.png', 'Solid\\\\img_493.png', 'Solid\\\\img_495.png', 'Solid\\\\img_496.png', 'Solid\\\\img_50.png', 'Solid\\\\img_500.png', 'Solid\\\\img_502.png', 'Solid\\\\img_503.png', 'Solid\\\\img_507.png', 'Solid\\\\img_508.png', 'Solid\\\\img_513.png', 'Solid\\\\img_514.png', 'Solid\\\\img_515.png', 'Solid\\\\img_516.png', 'Solid\\\\img_517.png', 'Solid\\\\img_518.png', 'Solid\\\\img_521.png', 'Solid\\\\img_523.png', 'Solid\\\\img_525.png', 'Solid\\\\img_527.png', 'Solid\\\\img_528.png', 'Solid\\\\img_531.png', 'Solid\\\\img_538.png', 'Solid\\\\img_539.png', 'Solid\\\\img_543.png', 'Solid\\\\img_545.png', 'Solid\\\\img_548.png', 'Solid\\\\img_550.png', 'Solid\\\\img_552.png', 'Solid\\\\img_556.png', 'Solid\\\\img_557.png', 'Solid\\\\img_560.png', 'Solid\\\\img_564.png', 'Solid\\\\img_566.png', 'Solid\\\\img_567.png', 'Solid\\\\img_569.png', 'Solid\\\\img_57.png', 'Solid\\\\img_573.png', 'Solid\\\\img_574.png', 'Solid\\\\img_577.png', 'Solid\\\\img_582.png', 'Solid\\\\img_584.png', 'Solid\\\\img_586.png', 'Solid\\\\img_587.png', 'Solid\\\\img_588.png', 'Solid\\\\img_589.png', 'Solid\\\\img_59.png', 'Solid\\\\img_590.png', 'Solid\\\\img_594.png', 'Solid\\\\img_602.png', 'Solid\\\\img_604.png', 'Solid\\\\img_606.png', 'Solid\\\\img_608.png', 'Solid\\\\img_609.png', 'Solid\\\\img_610.png', 'Solid\\\\img_611.png', 'Solid\\\\img_612.png', 'Solid\\\\img_613.png', 'Solid\\\\img_617.png', 'Solid\\\\img_618.png', 'Solid\\\\img_62.png', 'Solid\\\\img_620.png', 'Solid\\\\img_621.png', 'Solid\\\\img_625.png', 'Solid\\\\img_627.png', 'Solid\\\\img_628.png', 'Solid\\\\img_630.png', 'Solid\\\\img_635.png', 'Solid\\\\img_636.png', 'Solid\\\\img_639.png', 'Solid\\\\img_641.png', 'Solid\\\\img_644.png', 'Solid\\\\img_645.png', 'Solid\\\\img_649.png', 'Solid\\\\img_650.png', 'Solid\\\\img_651.png', 'Solid\\\\img_657.png', 'Solid\\\\img_66.png', 'Solid\\\\img_660.png', 'Solid\\\\img_662.png', 'Solid\\\\img_665.png', 'Solid\\\\img_67.png', 'Solid\\\\img_673.png', 'Solid\\\\img_674.png', 'Solid\\\\img_676.png', 'Solid\\\\img_679.png', 'Solid\\\\img_684.png', 'Solid\\\\img_685.png', 'Solid\\\\img_687.png', 'Solid\\\\img_689.png', 'Solid\\\\img_696.png', 'Solid\\\\img_70.png', 'Solid\\\\img_704.png', 'Solid\\\\img_705.png', 'Solid\\\\img_709.png', 'Solid\\\\img_710.png', 'Solid\\\\img_713.png', 'Solid\\\\img_717.png', 'Solid\\\\img_718.png', 'Solid\\\\img_721.png', 'Solid\\\\img_723.png', 'Solid\\\\img_724.png', 'Solid\\\\img_729.png', 'Solid\\\\img_734.png', 'Solid\\\\img_738.png', 'Solid\\\\img_743.png', 'Solid\\\\img_744.png', 'Solid\\\\img_745.png', 'Solid\\\\img_75.png', 'Solid\\\\img_752.png', 'Solid\\\\img_753.png', 'Solid\\\\img_757.png', 'Solid\\\\img_759.png', 'Solid\\\\img_763.png', 'Solid\\\\img_767.png', 'Solid\\\\img_768.png', 'Solid\\\\img_769.png', 'Solid\\\\img_77.png', 'Solid\\\\img_770.png', 'Solid\\\\img_772.png', 'Solid\\\\img_775.png', 'Solid\\\\img_777.png', 'Solid\\\\img_780.png', 'Solid\\\\img_781.png', 'Solid\\\\img_782.png', 'Solid\\\\img_784.png', 'Solid\\\\img_788.png', 'Solid\\\\img_789.png', 'Solid\\\\img_791.png', 'Solid\\\\img_792.png', 'Solid\\\\img_795.png', 'Solid\\\\img_796.png', 'Solid\\\\img_797.png', 'Solid\\\\img_8.png', 'Solid\\\\img_80.png', 'Solid\\\\img_802.png', 'Solid\\\\img_804.png', 'Solid\\\\img_809.png', 'Solid\\\\img_810.png', 'Solid\\\\img_812.png', 'Solid\\\\img_813.png', 'Solid\\\\img_818.png', 'Solid\\\\img_820.png', 'Solid\\\\img_821.png', 'Solid\\\\img_823.png', 'Solid\\\\img_824.png', 'Solid\\\\img_825.png', 'Solid\\\\img_829.png', 'Solid\\\\img_83.png', 'Solid\\\\img_831.png', 'Solid\\\\img_835.png', 'Solid\\\\img_838.png', 'Solid\\\\img_840.png', 'Solid\\\\img_842.png', 'Solid\\\\img_847.png', 'Solid\\\\img_85.png', 'Solid\\\\img_855.png', 'Solid\\\\img_856.png', 'Solid\\\\img_861.png', 'Solid\\\\img_869.png', 'Solid\\\\img_872.png', 'Solid\\\\img_873.png', 'Solid\\\\img_876.png', 'Solid\\\\img_887.png', 'Solid\\\\img_89.png', 'Solid\\\\img_892.png', 'Solid\\\\img_896.png', 'Solid\\\\img_897.png', 'Solid\\\\img_90.png', 'Solid\\\\img_903.png', 'Solid\\\\img_904.png', 'Solid\\\\img_905.png', 'Solid\\\\img_906.png', 'Solid\\\\img_91.png', 'Solid\\\\img_910.png', 'Solid\\\\img_911.png', 'Solid\\\\img_912.png', 'Solid\\\\img_913.png', 'Solid\\\\img_916.png', 'Solid\\\\img_918.png', 'Solid\\\\img_920.png', 'Solid\\\\img_922.png', 'Solid\\\\img_923.png', 'Solid\\\\img_925.png', 'Solid\\\\img_927.png', 'Solid\\\\img_928.png', 'Solid\\\\img_930.png', 'Solid\\\\img_934.png', 'Solid\\\\img_936.png', 'Solid\\\\img_942.png', 'Solid\\\\img_943.png', 'Solid\\\\img_948.png', 'Solid\\\\img_949.png', 'Solid\\\\img_952.png', 'Solid\\\\img_965.png', 'Solid\\\\img_967.png', 'Solid\\\\img_969.png', 'Solid\\\\img_973.png', 'Solid\\\\img_975.png', 'Solid\\\\img_976.png', 'Solid\\\\img_980.png', 'Solid\\\\img_981.png', 'Solid\\\\img_982.png', 'Solid\\\\img_989.png', 'Solid\\\\img_990.png', 'Solid\\\\img_991.png', 'Solid\\\\img_995.png', 'Solid\\\\img_997.png', 'Sports\\\\img_1498.png', 'Sports\\\\img_2044.png', 'Sports\\\\img_2287.png', 'Sports\\\\img_446.png', 'Sports and Team Jersey\\\\img_2138.png', 'Striped\\\\img_1005.png', 'Striped\\\\img_1020.png', 'Striped\\\\img_1058.png', 'Striped\\\\img_1063.png', 'Striped\\\\img_107.png', 'Striped\\\\img_1079.png', 'Striped\\\\img_1089.png', 'Striped\\\\img_1095.png', 'Striped\\\\img_1128.png', 'Striped\\\\img_1131.png', 'Striped\\\\img_1146.png', 'Striped\\\\img_1161.png', 'Striped\\\\img_1207.png', 'Striped\\\\img_1246.png', 'Striped\\\\img_1249.png', 'Striped\\\\img_1253.png', 'Striped\\\\img_1267.png', 'Striped\\\\img_127.png', 'Striped\\\\img_1305.png', 'Striped\\\\img_1318.png', 'Striped\\\\img_1322.png', 'Striped\\\\img_1328.png', 'Striped\\\\img_1332.png', 'Striped\\\\img_1361.png', 'Striped\\\\img_1365.png', 'Striped\\\\img_137.png', 'Striped\\\\img_1378.png', 'Striped\\\\img_1380.png', 'Striped\\\\img_1382.png', 'Striped\\\\img_1407.png', 'Striped\\\\img_1438.png', 'Striped\\\\img_146.png', 'Striped\\\\img_1465.png', 'Striped\\\\img_1473.png', 'Striped\\\\img_1486.png', 'Striped\\\\img_1497.png', 'Striped\\\\img_15.png', 'Striped\\\\img_1537.png', 'Striped\\\\img_1541.png', 'Striped\\\\img_1562.png', 'Striped\\\\img_1567.png', 'Striped\\\\img_1575.png', 'Striped\\\\img_1576.png', 'Striped\\\\img_1577.png', 'Striped\\\\img_1640.png', 'Striped\\\\img_1646.png', 'Striped\\\\img_1648.png', 'Striped\\\\img_1649.png', 'Striped\\\\img_1659.png', 'Striped\\\\img_1687.png', 'Striped\\\\img_169.png', 'Striped\\\\img_1690.png', 'Striped\\\\img_1693.png', 'Striped\\\\img_1714.png', 'Striped\\\\img_1720.png', 'Striped\\\\img_1740.png', 'Striped\\\\img_1751.png', 'Striped\\\\img_1754.png', 'Striped\\\\img_1771.png', 'Striped\\\\img_1802.png', 'Striped\\\\img_1804.png', 'Striped\\\\img_1817.png', 'Striped\\\\img_1819.png', 'Striped\\\\img_1871.png', 'Striped\\\\img_1883.png', 'Striped\\\\img_1892.png', 'Striped\\\\img_1894.png', 'Striped\\\\img_1895.png', 'Striped\\\\img_1962.png', 'Striped\\\\img_1964.png', 'Striped\\\\img_1973.png', 'Striped\\\\img_1982.png', 'Striped\\\\img_1991.png', 'Striped\\\\img_1992.png', 'Striped\\\\img_1998.png', 'Striped\\\\img_2001.png', 'Striped\\\\img_2005.png', 'Striped\\\\img_2008.png', 'Striped\\\\img_202.png', 'Striped\\\\img_2030.png', 'Striped\\\\img_2040.png', 'Striped\\\\img_2047.png', 'Striped\\\\img_2090.png', 'Striped\\\\img_2093.png', 'Striped\\\\img_2100.png', 'Striped\\\\img_2104.png', 'Striped\\\\img_2115.png', 'Striped\\\\img_2120.png', 'Striped\\\\img_2137.png', 'Striped\\\\img_2158.png', 'Striped\\\\img_2160.png', 'Striped\\\\img_2162.png', 'Striped\\\\img_2168.png', 'Striped\\\\img_217.png', 'Striped\\\\img_2177.png', 'Striped\\\\img_2185.png', 'Striped\\\\img_2192.png', 'Striped\\\\img_2211.png', 'Striped\\\\img_2229.png', 'Striped\\\\img_2231.png', 'Striped\\\\img_2243.png', 'Striped\\\\img_2254.png', 'Striped\\\\img_2256.png', 'Striped\\\\img_2263.png', 'Striped\\\\img_2266.png', 'Striped\\\\img_2279.png', 'Striped\\\\img_2283.png', 'Striped\\\\img_2300.png', 'Striped\\\\img_2305.png', 'Striped\\\\img_2318.png', 'Striped\\\\img_2332.png', 'Striped\\\\img_2344.png', 'Striped\\\\img_2352.png', 'Striped\\\\img_2376.png', 'Striped\\\\img_2380.png', 'Striped\\\\img_2393.png', 'Striped\\\\img_2396.png', 'Striped\\\\img_2431.png', 'Striped\\\\img_2444.png', 'Striped\\\\img_2445.png', 'Striped\\\\img_2470.png', 'Striped\\\\img_2477.png', 'Striped\\\\img_2495.png', 'Striped\\\\img_2506.png', 'Striped\\\\img_2507.png', 'Striped\\\\img_2510.png', 'Striped\\\\img_2511.png', 'Striped\\\\img_2515.png', 'Striped\\\\img_2519.png', 'Striped\\\\img_2536.png', 'Striped\\\\img_2549.png', 'Striped\\\\img_2554.png', 'Striped\\\\img_2556.png', 'Striped\\\\img_2565.png', 'Striped\\\\img_2567.png', 'Striped\\\\img_258.png', 'Striped\\\\img_2581.png', 'Striped\\\\img_2590.png', 'Striped\\\\img_260.png', 'Striped\\\\img_2604.png', 'Striped\\\\img_2615.png', 'Striped\\\\img_2621.png', 'Striped\\\\img_2642.png', 'Striped\\\\img_2647.png', 'Striped\\\\img_2652.png', 'Striped\\\\img_2657.png', 'Striped\\\\img_2666.png', 'Striped\\\\img_267.png', 'Striped\\\\img_2682.png', 'Striped\\\\img_2691.png', 'Striped\\\\img_2702.png', 'Striped\\\\img_271.png', 'Striped\\\\img_2710.png', 'Striped\\\\img_2720.png', 'Striped\\\\img_2735.png', 'Striped\\\\img_2761.png', 'Striped\\\\img_2789.png', 'Striped\\\\img_2794.png', 'Striped\\\\img_28.png', 'Striped\\\\img_2801.png', 'Striped\\\\img_2811.png', 'Striped\\\\img_2825.png', 'Striped\\\\img_2836.png', 'Striped\\\\img_2850.png', 'Striped\\\\img_299.png', 'Striped\\\\img_305.png', 'Striped\\\\img_316.png', 'Striped\\\\img_328.png', 'Striped\\\\img_333.png', 'Striped\\\\img_339.png', 'Striped\\\\img_354.png', 'Striped\\\\img_357.png', 'Striped\\\\img_360.png', 'Striped\\\\img_367.png', 'Striped\\\\img_379.png', 'Striped\\\\img_385.png', 'Striped\\\\img_397.png', 'Striped\\\\img_404.png', 'Striped\\\\img_407.png', 'Striped\\\\img_426.png', 'Striped\\\\img_442.png', 'Striped\\\\img_45.png', 'Striped\\\\img_459.png', 'Striped\\\\img_47.png', 'Striped\\\\img_479.png', 'Striped\\\\img_487.png', 'Striped\\\\img_488.png', 'Striped\\\\img_491.png', 'Striped\\\\img_5.png', 'Striped\\\\img_505.png', 'Striped\\\\img_52.png', 'Striped\\\\img_534.png', 'Striped\\\\img_54.png', 'Striped\\\\img_55.png', 'Striped\\\\img_558.png', 'Striped\\\\img_570.png', 'Striped\\\\img_576.png', 'Striped\\\\img_579.png', 'Striped\\\\img_6.png', 'Striped\\\\img_600.png', 'Striped\\\\img_622.png', 'Striped\\\\img_624.png', 'Striped\\\\img_629.png', 'Striped\\\\img_659.png', 'Striped\\\\img_666.png', 'Striped\\\\img_675.png', 'Striped\\\\img_697.png', 'Striped\\\\img_71.png', 'Striped\\\\img_726.png', 'Striped\\\\img_73.png', 'Striped\\\\img_771.png', 'Striped\\\\img_779.png', 'Striped\\\\img_798.png', 'Striped\\\\img_801.png', 'Striped\\\\img_819.png', 'Striped\\\\img_868.png', 'Striped\\\\img_877.png', 'Striped\\\\img_883.png', 'Striped\\\\img_890.png', 'Striped\\\\img_9.png', 'Striped\\\\img_900.png', 'Striped\\\\img_909.png', 'Striped\\\\img_914.png', 'Striped\\\\img_931.png', 'Striped\\\\img_954.png', 'Striped\\\\img_957.png', 'Striped\\\\img_962.png', 'Striped\\\\img_97.png', 'Striped\\\\img_996.png', 'Superhero\\\\img_1162.png', 'Superhero\\\\img_1202.png', 'Superhero\\\\img_1490.png', 'Superhero\\\\img_1764.png', 'Superhero\\\\img_1793.png', 'Superhero\\\\img_187.png', 'Superhero\\\\img_2322.png', 'Superhero\\\\img_2659.png', 'Superhero\\\\img_2731.png', 'Superhero\\\\img_473.png', 'Superhero\\\\img_476.png', 'Superhero\\\\img_597.png', 'Superhero\\\\img_811.png', 'Superhero\\\\img_841.png', 'Superhero\\\\img_951.png', 'Superhero\\\\img_98.png', 'Tie and Dye\\\\img_1171.png', 'Tie and Dye\\\\img_1463.png', 'Tie and Dye\\\\img_1715.png', 'Tie and Dye\\\\img_1859.png', 'Tie and Dye\\\\img_1908.png', 'Tie and Dye\\\\img_2000.png', 'Tie and Dye\\\\img_2343.png', 'Tie and Dye\\\\img_2503.png', 'Tie and Dye\\\\img_2626.png', 'Tie and Dye\\\\img_2716.png', 'Tie and Dye\\\\img_2792.png', 'Tie and Dye\\\\img_2837.png', 'Tie and Dye\\\\img_2849.png', 'Tie and Dye\\\\img_304.png', 'Tie and Dye\\\\img_348.png', 'Tie and Dye\\\\img_363.png', 'Tie and Dye\\\\img_463.png', 'Tie and Dye\\\\img_561.png', 'Tie and Dye\\\\img_572.png', 'Tribal\\\\img_1607.png', 'Tribal\\\\img_2368.png', 'Typography\\\\img_10.png', 'Typography\\\\img_1002.png', 'Typography\\\\img_1008.png', 'Typography\\\\img_1013.png', 'Typography\\\\img_1014.png', 'Typography\\\\img_1016.png', 'Typography\\\\img_102.png', 'Typography\\\\img_1021.png', 'Typography\\\\img_1022.png', 'Typography\\\\img_1024.png', 'Typography\\\\img_1026.png', 'Typography\\\\img_1033.png', 'Typography\\\\img_1036.png', 'Typography\\\\img_1038.png', 'Typography\\\\img_104.png', 'Typography\\\\img_1051.png', 'Typography\\\\img_1057.png', 'Typography\\\\img_1059.png', 'Typography\\\\img_106.png', 'Typography\\\\img_1064.png', 'Typography\\\\img_1065.png', 'Typography\\\\img_1082.png', 'Typography\\\\img_1083.png', 'Typography\\\\img_1084.png', 'Typography\\\\img_1086.png', 'Typography\\\\img_1087.png', 'Typography\\\\img_1090.png', 'Typography\\\\img_1093.png', 'Typography\\\\img_1097.png', 'Typography\\\\img_1102.png', 'Typography\\\\img_1104.png', 'Typography\\\\img_1110.png', 'Typography\\\\img_1111.png', 'Typography\\\\img_1118.png', 'Typography\\\\img_112.png', 'Typography\\\\img_1120.png', 'Typography\\\\img_1135.png', 'Typography\\\\img_1137.png', 'Typography\\\\img_1147.png', 'Typography\\\\img_1148.png', 'Typography\\\\img_1152.png', 'Typography\\\\img_117.png', 'Typography\\\\img_1172.png', 'Typography\\\\img_1175.png', 'Typography\\\\img_1178.png', 'Typography\\\\img_1180.png', 'Typography\\\\img_1181.png', 'Typography\\\\img_1189.png', 'Typography\\\\img_119.png', 'Typography\\\\img_1194.png', 'Typography\\\\img_1200.png', 'Typography\\\\img_1203.png', 'Typography\\\\img_1204.png', 'Typography\\\\img_1209.png', 'Typography\\\\img_1211.png', 'Typography\\\\img_1215.png', 'Typography\\\\img_1217.png', 'Typography\\\\img_122.png', 'Typography\\\\img_1220.png', 'Typography\\\\img_1225.png', 'Typography\\\\img_123.png', 'Typography\\\\img_1232.png', 'Typography\\\\img_1237.png', 'Typography\\\\img_1239.png', 'Typography\\\\img_124.png', 'Typography\\\\img_125.png', 'Typography\\\\img_1251.png', 'Typography\\\\img_1258.png', 'Typography\\\\img_1259.png', 'Typography\\\\img_1261.png', 'Typography\\\\img_1262.png', 'Typography\\\\img_1264.png', 'Typography\\\\img_1266.png', 'Typography\\\\img_1269.png', 'Typography\\\\img_1270.png', 'Typography\\\\img_1272.png', 'Typography\\\\img_1276.png', 'Typography\\\\img_1280.png', 'Typography\\\\img_1281.png', 'Typography\\\\img_1286.png', 'Typography\\\\img_1290.png', 'Typography\\\\img_1291.png', 'Typography\\\\img_1292.png', 'Typography\\\\img_1297.png', 'Typography\\\\img_1298.png', 'Typography\\\\img_130.png', 'Typography\\\\img_1303.png', 'Typography\\\\img_1306.png', 'Typography\\\\img_1314.png', 'Typography\\\\img_1317.png', 'Typography\\\\img_1320.png', 'Typography\\\\img_1321.png', 'Typography\\\\img_1323.png', 'Typography\\\\img_1324.png', 'Typography\\\\img_1325.png', 'Typography\\\\img_1329.png', 'Typography\\\\img_1333.png', 'Typography\\\\img_1336.png', 'Typography\\\\img_1338.png', 'Typography\\\\img_1339.png', 'Typography\\\\img_134.png', 'Typography\\\\img_1342.png', 'Typography\\\\img_1344.png', 'Typography\\\\img_1349.png', 'Typography\\\\img_135.png', 'Typography\\\\img_1351.png', 'Typography\\\\img_1352.png', 'Typography\\\\img_1358.png', 'Typography\\\\img_1360.png', 'Typography\\\\img_1370.png', 'Typography\\\\img_1375.png', 'Typography\\\\img_1376.png', 'Typography\\\\img_1387.png', 'Typography\\\\img_1389.png', 'Typography\\\\img_1394.png', 'Typography\\\\img_1396.png', 'Typography\\\\img_1397.png', 'Typography\\\\img_1401.png', 'Typography\\\\img_1405.png', 'Typography\\\\img_1406.png', 'Typography\\\\img_1413.png', 'Typography\\\\img_1417.png', 'Typography\\\\img_1418.png', 'Typography\\\\img_1421.png', 'Typography\\\\img_1424.png', 'Typography\\\\img_1425.png', 'Typography\\\\img_143.png', 'Typography\\\\img_1430.png', 'Typography\\\\img_1434.png', 'Typography\\\\img_1435.png', 'Typography\\\\img_1437.png', 'Typography\\\\img_1444.png', 'Typography\\\\img_1446.png', 'Typography\\\\img_1451.png', 'Typography\\\\img_1462.png', 'Typography\\\\img_1467.png', 'Typography\\\\img_147.png', 'Typography\\\\img_1477.png', 'Typography\\\\img_1482.png', 'Typography\\\\img_1488.png', 'Typography\\\\img_149.png', 'Typography\\\\img_1494.png', 'Typography\\\\img_1495.png', 'Typography\\\\img_1496.png', 'Typography\\\\img_1506.png', 'Typography\\\\img_1509.png', 'Typography\\\\img_1515.png', 'Typography\\\\img_1520.png', 'Typography\\\\img_1525.png', 'Typography\\\\img_1526.png', 'Typography\\\\img_1528.png', 'Typography\\\\img_1529.png', 'Typography\\\\img_153.png', 'Typography\\\\img_1532.png', 'Typography\\\\img_1538.png', 'Typography\\\\img_1539.png', 'Typography\\\\img_1544.png', 'Typography\\\\img_1553.png', 'Typography\\\\img_1554.png', 'Typography\\\\img_1556.png', 'Typography\\\\img_1565.png', 'Typography\\\\img_1566.png', 'Typography\\\\img_1568.png', 'Typography\\\\img_157.png', 'Typography\\\\img_1578.png', 'Typography\\\\img_1581.png', 'Typography\\\\img_1582.png', 'Typography\\\\img_1584.png', 'Typography\\\\img_1590.png', 'Typography\\\\img_1592.png', 'Typography\\\\img_1597.png', 'Typography\\\\img_160.png', 'Typography\\\\img_1612.png', 'Typography\\\\img_1614.png', 'Typography\\\\img_1617.png', 'Typography\\\\img_1619.png', 'Typography\\\\img_1620.png', 'Typography\\\\img_1624.png', 'Typography\\\\img_1626.png', 'Typography\\\\img_1627.png', 'Typography\\\\img_163.png', 'Typography\\\\img_1634.png', 'Typography\\\\img_1636.png', 'Typography\\\\img_1637.png', 'Typography\\\\img_1638.png', 'Typography\\\\img_1639.png', 'Typography\\\\img_1647.png', 'Typography\\\\img_165.png', 'Typography\\\\img_1650.png', 'Typography\\\\img_1652.png', 'Typography\\\\img_1654.png', 'Typography\\\\img_166.png', 'Typography\\\\img_1661.png', 'Typography\\\\img_1665.png', 'Typography\\\\img_1672.png', 'Typography\\\\img_1676.png', 'Typography\\\\img_1677.png', 'Typography\\\\img_1680.png', 'Typography\\\\img_1688.png', 'Typography\\\\img_1698.png', 'Typography\\\\img_1699.png', 'Typography\\\\img_1700.png', 'Typography\\\\img_1702.png', 'Typography\\\\img_1703.png', 'Typography\\\\img_1704.png', 'Typography\\\\img_1710.png', 'Typography\\\\img_1713.png', 'Typography\\\\img_172.png', 'Typography\\\\img_1722.png', 'Typography\\\\img_1724.png', 'Typography\\\\img_1725.png', 'Typography\\\\img_1726.png', 'Typography\\\\img_173.png', 'Typography\\\\img_1730.png', 'Typography\\\\img_1732.png', 'Typography\\\\img_1734.png', 'Typography\\\\img_1739.png', 'Typography\\\\img_1742.png', 'Typography\\\\img_1743.png', 'Typography\\\\img_1747.png', 'Typography\\\\img_1748.png', 'Typography\\\\img_1749.png', 'Typography\\\\img_1752.png', 'Typography\\\\img_1753.png', 'Typography\\\\img_1756.png', 'Typography\\\\img_1757.png', 'Typography\\\\img_1758.png', 'Typography\\\\img_1759.png', 'Typography\\\\img_1762.png', 'Typography\\\\img_1765.png', 'Typography\\\\img_1766.png', 'Typography\\\\img_1770.png', 'Typography\\\\img_1778.png', 'Typography\\\\img_1781.png', 'Typography\\\\img_1783.png', 'Typography\\\\img_1787.png', 'Typography\\\\img_1794.png', 'Typography\\\\img_18.png', 'Typography\\\\img_1800.png', 'Typography\\\\img_1801.png', 'Typography\\\\img_1803.png', 'Typography\\\\img_1806.png', 'Typography\\\\img_1810.png', 'Typography\\\\img_1815.png', 'Typography\\\\img_1821.png', 'Typography\\\\img_1822.png', 'Typography\\\\img_1823.png', 'Typography\\\\img_1824.png', 'Typography\\\\img_1825.png', 'Typography\\\\img_1826.png', 'Typography\\\\img_1830.png', 'Typography\\\\img_1833.png', 'Typography\\\\img_1834.png', 'Typography\\\\img_1836.png', 'Typography\\\\img_1838.png', 'Typography\\\\img_1840.png', 'Typography\\\\img_1844.png', 'Typography\\\\img_1846.png', 'Typography\\\\img_1848.png', 'Typography\\\\img_1850.png', 'Typography\\\\img_1851.png', 'Typography\\\\img_1854.png', 'Typography\\\\img_1856.png', 'Typography\\\\img_1857.png', 'Typography\\\\img_1860.png', 'Typography\\\\img_1870.png', 'Typography\\\\img_1872.png', 'Typography\\\\img_1875.png', 'Typography\\\\img_1877.png', 'Typography\\\\img_1878.png', 'Typography\\\\img_188.png', 'Typography\\\\img_1881.png', 'Typography\\\\img_1889.png', 'Typography\\\\img_1890.png', 'Typography\\\\img_1897.png', 'Typography\\\\img_190.png', 'Typography\\\\img_1909.png', 'Typography\\\\img_1913.png', 'Typography\\\\img_1920.png', 'Typography\\\\img_1921.png', 'Typography\\\\img_1926.png', 'Typography\\\\img_1938.png', 'Typography\\\\img_1939.png', 'Typography\\\\img_194.png', 'Typography\\\\img_1942.png', 'Typography\\\\img_1943.png', 'Typography\\\\img_1945.png', 'Typography\\\\img_1947.png', 'Typography\\\\img_1958.png', 'Typography\\\\img_196.png', 'Typography\\\\img_1960.png', 'Typography\\\\img_1967.png', 'Typography\\\\img_1972.png', 'Typography\\\\img_1974.png', 'Typography\\\\img_1976.png', 'Typography\\\\img_1978.png', 'Typography\\\\img_1981.png', 'Typography\\\\img_1983.png', 'Typography\\\\img_1987.png', 'Typography\\\\img_1993.png', 'Typography\\\\img_1994.png', 'Typography\\\\img_1997.png', 'Typography\\\\img_2004.png', 'Typography\\\\img_201.png', 'Typography\\\\img_2010.png', 'Typography\\\\img_2013.png', 'Typography\\\\img_2014.png', 'Typography\\\\img_2017.png', 'Typography\\\\img_2018.png', 'Typography\\\\img_2024.png', 'Typography\\\\img_2025.png', 'Typography\\\\img_2029.png', 'Typography\\\\img_2034.png', 'Typography\\\\img_2035.png', 'Typography\\\\img_2037.png', 'Typography\\\\img_2039.png', 'Typography\\\\img_204.png', 'Typography\\\\img_205.png', 'Typography\\\\img_2055.png', 'Typography\\\\img_2057.png', 'Typography\\\\img_2060.png', 'Typography\\\\img_2076.png', 'Typography\\\\img_2078.png', 'Typography\\\\img_2080.png', 'Typography\\\\img_2083.png', 'Typography\\\\img_2086.png', 'Typography\\\\img_2088.png', 'Typography\\\\img_2089.png', 'Typography\\\\img_2091.png', 'Typography\\\\img_2092.png', 'Typography\\\\img_2094.png', 'Typography\\\\img_2096.png', 'Typography\\\\img_2098.png', 'Typography\\\\img_2108.png', 'Typography\\\\img_2109.png', 'Typography\\\\img_211.png', 'Typography\\\\img_2111.png', 'Typography\\\\img_2112.png', 'Typography\\\\img_2124.png', 'Typography\\\\img_2126.png', 'Typography\\\\img_2127.png', 'Typography\\\\img_2135.png', 'Typography\\\\img_214.png', 'Typography\\\\img_2143.png', 'Typography\\\\img_2144.png', 'Typography\\\\img_2145.png', 'Typography\\\\img_2146.png', 'Typography\\\\img_2147.png', 'Typography\\\\img_215.png', 'Typography\\\\img_2153.png', 'Typography\\\\img_2154.png', 'Typography\\\\img_2159.png', 'Typography\\\\img_2163.png', 'Typography\\\\img_2172.png', 'Typography\\\\img_2174.png', 'Typography\\\\img_2179.png', 'Typography\\\\img_2180.png', 'Typography\\\\img_2183.png', 'Typography\\\\img_2187.png', 'Typography\\\\img_2189.png', 'Typography\\\\img_2193.png', 'Typography\\\\img_2194.png', 'Typography\\\\img_220.png', 'Typography\\\\img_2201.png', 'Typography\\\\img_2202.png', 'Typography\\\\img_2205.png', 'Typography\\\\img_2212.png', 'Typography\\\\img_2215.png', 'Typography\\\\img_2216.png', 'Typography\\\\img_2217.png', 'Typography\\\\img_2220.png', 'Typography\\\\img_2225.png', 'Typography\\\\img_2228.png', 'Typography\\\\img_2230.png', 'Typography\\\\img_2234.png', 'Typography\\\\img_224.png', 'Typography\\\\img_2247.png', 'Typography\\\\img_2253.png', 'Typography\\\\img_2258.png', 'Typography\\\\img_226.png', 'Typography\\\\img_2260.png', 'Typography\\\\img_2264.png', 'Typography\\\\img_2270.png', 'Typography\\\\img_2271.png', 'Typography\\\\img_228.png', 'Typography\\\\img_2281.png', 'Typography\\\\img_2286.png', 'Typography\\\\img_2289.png', 'Typography\\\\img_2293.png', 'Typography\\\\img_2298.png', 'Typography\\\\img_2306.png', 'Typography\\\\img_2309.png', 'Typography\\\\img_2314.png', 'Typography\\\\img_2317.png', 'Typography\\\\img_2320.png', 'Typography\\\\img_2331.png', 'Typography\\\\img_2333.png', 'Typography\\\\img_2335.png', 'Typography\\\\img_2336.png', 'Typography\\\\img_2351.png', 'Typography\\\\img_2358.png', 'Typography\\\\img_2362.png', 'Typography\\\\img_2363.png', 'Typography\\\\img_2364.png', 'Typography\\\\img_2365.png', 'Typography\\\\img_2366.png', 'Typography\\\\img_2369.png', 'Typography\\\\img_237.png', 'Typography\\\\img_2371.png', 'Typography\\\\img_2372.png', 'Typography\\\\img_238.png', 'Typography\\\\img_2382.png', 'Typography\\\\img_2383.png', 'Typography\\\\img_2386.png', 'Typography\\\\img_2389.png', 'Typography\\\\img_24.png', 'Typography\\\\img_2406.png', 'Typography\\\\img_2407.png', 'Typography\\\\img_2408.png', 'Typography\\\\img_2411.png', 'Typography\\\\img_2412.png', 'Typography\\\\img_2415.png', 'Typography\\\\img_2419.png', 'Typography\\\\img_2420.png', 'Typography\\\\img_2426.png', 'Typography\\\\img_2427.png', 'Typography\\\\img_2429.png', 'Typography\\\\img_2436.png', 'Typography\\\\img_2438.png', 'Typography\\\\img_2439.png', 'Typography\\\\img_2440.png', 'Typography\\\\img_2443.png', 'Typography\\\\img_245.png', 'Typography\\\\img_2450.png', 'Typography\\\\img_2452.png', 'Typography\\\\img_2461.png', 'Typography\\\\img_247.png', 'Typography\\\\img_2474.png', 'Typography\\\\img_2476.png', 'Typography\\\\img_2479.png', 'Typography\\\\img_2481.png', 'Typography\\\\img_2483.png', 'Typography\\\\img_2486.png', 'Typography\\\\img_2487.png', 'Typography\\\\img_2489.png', 'Typography\\\\img_2494.png', 'Typography\\\\img_2497.png', 'Typography\\\\img_250.png', 'Typography\\\\img_2500.png', 'Typography\\\\img_2501.png', 'Typography\\\\img_2502.png', 'Typography\\\\img_2504.png', 'Typography\\\\img_2514.png', 'Typography\\\\img_2518.png', 'Typography\\\\img_2520.png', 'Typography\\\\img_2521.png', 'Typography\\\\img_2531.png', 'Typography\\\\img_2533.png', 'Typography\\\\img_2534.png', 'Typography\\\\img_2538.png', 'Typography\\\\img_2539.png', 'Typography\\\\img_2540.png', 'Typography\\\\img_2543.png', 'Typography\\\\img_2547.png', 'Typography\\\\img_2553.png', 'Typography\\\\img_2558.png', 'Typography\\\\img_2559.png', 'Typography\\\\img_2561.png', 'Typography\\\\img_2563.png', 'Typography\\\\img_2569.png', 'Typography\\\\img_2571.png', 'Typography\\\\img_2573.png', 'Typography\\\\img_2578.png', 'Typography\\\\img_2582.png', 'Typography\\\\img_2585.png', 'Typography\\\\img_2586.png', 'Typography\\\\img_2587.png', 'Typography\\\\img_2588.png', 'Typography\\\\img_259.png', 'Typography\\\\img_2592.png', 'Typography\\\\img_2595.png', 'Typography\\\\img_2600.png', 'Typography\\\\img_2608.png', 'Typography\\\\img_2611.png', 'Typography\\\\img_2616.png', 'Typography\\\\img_2620.png', 'Typography\\\\img_2624.png', 'Typography\\\\img_2629.png', 'Typography\\\\img_2634.png', 'Typography\\\\img_2635.png', 'Typography\\\\img_2640.png', 'Typography\\\\img_2648.png', 'Typography\\\\img_2650.png', 'Typography\\\\img_2651.png', 'Typography\\\\img_2654.png', 'Typography\\\\img_2656.png', 'Typography\\\\img_2664.png', 'Typography\\\\img_2672.png', 'Typography\\\\img_2673.png', 'Typography\\\\img_2676.png', 'Typography\\\\img_2678.png', 'Typography\\\\img_2679.png', 'Typography\\\\img_268.png', 'Typography\\\\img_2681.png', 'Typography\\\\img_2684.png', 'Typography\\\\img_2695.png', 'Typography\\\\img_2697.png', 'Typography\\\\img_2701.png', 'Typography\\\\img_2706.png', 'Typography\\\\img_2713.png', 'Typography\\\\img_2715.png', 'Typography\\\\img_2717.png', 'Typography\\\\img_2718.png', 'Typography\\\\img_2719.png', 'Typography\\\\img_2721.png', 'Typography\\\\img_2729.png', 'Typography\\\\img_2732.png', 'Typography\\\\img_2733.png', 'Typography\\\\img_2739.png', 'Typography\\\\img_2741.png', 'Typography\\\\img_2747.png', 'Typography\\\\img_2750.png', 'Typography\\\\img_2753.png', 'Typography\\\\img_2755.png', 'Typography\\\\img_2756.png', 'Typography\\\\img_2759.png', 'Typography\\\\img_2760.png', 'Typography\\\\img_2763.png', 'Typography\\\\img_2767.png', 'Typography\\\\img_2773.png', 'Typography\\\\img_2777.png', 'Typography\\\\img_278.png', 'Typography\\\\img_279.png', 'Typography\\\\img_2797.png', 'Typography\\\\img_2800.png', 'Typography\\\\img_2804.png', 'Typography\\\\img_2806.png', 'Typography\\\\img_2808.png', 'Typography\\\\img_2810.png', 'Typography\\\\img_2812.png', 'Typography\\\\img_2817.png', 'Typography\\\\img_2818.png', 'Typography\\\\img_282.png', 'Typography\\\\img_2822.png', 'Typography\\\\img_2824.png', 'Typography\\\\img_2826.png', 'Typography\\\\img_2833.png', 'Typography\\\\img_2839.png', 'Typography\\\\img_2840.png', 'Typography\\\\img_2844.png', 'Typography\\\\img_2846.png', 'Typography\\\\img_285.png', 'Typography\\\\img_2852.png', 'Typography\\\\img_2853.png', 'Typography\\\\img_2854.png', 'Typography\\\\img_2855.png', 'Typography\\\\img_2857.png', 'Typography\\\\img_2861.png', 'Typography\\\\img_2865.png', 'Typography\\\\img_289.png', 'Typography\\\\img_293.png', 'Typography\\\\img_294.png', 'Typography\\\\img_298.png', 'Typography\\\\img_300.png', 'Typography\\\\img_302.png', 'Typography\\\\img_303.png', 'Typography\\\\img_311.png', 'Typography\\\\img_312.png', 'Typography\\\\img_313.png', 'Typography\\\\img_315.png', 'Typography\\\\img_319.png', 'Typography\\\\img_322.png', 'Typography\\\\img_323.png', 'Typography\\\\img_330.png', 'Typography\\\\img_332.png', 'Typography\\\\img_338.png', 'Typography\\\\img_34.png', 'Typography\\\\img_343.png', 'Typography\\\\img_345.png', 'Typography\\\\img_350.png', 'Typography\\\\img_353.png', 'Typography\\\\img_364.png', 'Typography\\\\img_366.png', 'Typography\\\\img_368.png', 'Typography\\\\img_372.png', 'Typography\\\\img_374.png', 'Typography\\\\img_375.png', 'Typography\\\\img_38.png', 'Typography\\\\img_381.png', 'Typography\\\\img_384.png', 'Typography\\\\img_386.png', 'Typography\\\\img_391.png', 'Typography\\\\img_396.png', 'Typography\\\\img_403.png', 'Typography\\\\img_406.png', 'Typography\\\\img_412.png', 'Typography\\\\img_413.png', 'Typography\\\\img_414.png', 'Typography\\\\img_417.png', 'Typography\\\\img_427.png', 'Typography\\\\img_434.png', 'Typography\\\\img_438.png', 'Typography\\\\img_440.png', 'Typography\\\\img_441.png', 'Typography\\\\img_447.png', 'Typography\\\\img_448.png', 'Typography\\\\img_449.png', 'Typography\\\\img_450.png', 'Typography\\\\img_455.png', 'Typography\\\\img_46.png', 'Typography\\\\img_461.png', 'Typography\\\\img_464.png', 'Typography\\\\img_471.png', 'Typography\\\\img_477.png', 'Typography\\\\img_48.png', 'Typography\\\\img_480.png', 'Typography\\\\img_485.png', 'Typography\\\\img_489.png', 'Typography\\\\img_494.png', 'Typography\\\\img_504.png', 'Typography\\\\img_509.png', 'Typography\\\\img_512.png', 'Typography\\\\img_519.png', 'Typography\\\\img_520.png', 'Typography\\\\img_524.png', 'Typography\\\\img_526.png', 'Typography\\\\img_53.png', 'Typography\\\\img_530.png', 'Typography\\\\img_532.png', 'Typography\\\\img_536.png', 'Typography\\\\img_541.png', 'Typography\\\\img_542.png', 'Typography\\\\img_549.png', 'Typography\\\\img_553.png', 'Typography\\\\img_555.png', 'Typography\\\\img_562.png', 'Typography\\\\img_563.png', 'Typography\\\\img_565.png', 'Typography\\\\img_575.png', 'Typography\\\\img_58.png', 'Typography\\\\img_581.png', 'Typography\\\\img_583.png', 'Typography\\\\img_585.png', 'Typography\\\\img_591.png', 'Typography\\\\img_592.png', 'Typography\\\\img_593.png', 'Typography\\\\img_595.png', 'Typography\\\\img_596.png', 'Typography\\\\img_598.png', 'Typography\\\\img_601.png', 'Typography\\\\img_603.png', 'Typography\\\\img_607.png', 'Typography\\\\img_615.png', 'Typography\\\\img_616.png', 'Typography\\\\img_619.png', 'Typography\\\\img_623.png', 'Typography\\\\img_626.png', 'Typography\\\\img_63.png', 'Typography\\\\img_631.png', 'Typography\\\\img_632.png', 'Typography\\\\img_633.png', 'Typography\\\\img_64.png', 'Typography\\\\img_640.png', 'Typography\\\\img_643.png', 'Typography\\\\img_646.png', 'Typography\\\\img_654.png', 'Typography\\\\img_655.png', 'Typography\\\\img_656.png', 'Typography\\\\img_661.png', 'Typography\\\\img_663.png', 'Typography\\\\img_664.png', 'Typography\\\\img_668.png', 'Typography\\\\img_671.png', 'Typography\\\\img_68.png', 'Typography\\\\img_683.png', 'Typography\\\\img_69.png', 'Typography\\\\img_690.png', 'Typography\\\\img_691.png', 'Typography\\\\img_695.png', 'Typography\\\\img_698.png', 'Typography\\\\img_7.png', 'Typography\\\\img_700.png', 'Typography\\\\img_701.png', 'Typography\\\\img_702.png', 'Typography\\\\img_706.png', 'Typography\\\\img_707.png', 'Typography\\\\img_708.png', 'Typography\\\\img_711.png', 'Typography\\\\img_714.png', 'Typography\\\\img_716.png', 'Typography\\\\img_719.png', 'Typography\\\\img_725.png', 'Typography\\\\img_727.png', 'Typography\\\\img_728.png', 'Typography\\\\img_733.png', 'Typography\\\\img_736.png', 'Typography\\\\img_740.png', 'Typography\\\\img_741.png', 'Typography\\\\img_742.png', 'Typography\\\\img_747.png', 'Typography\\\\img_748.png', 'Typography\\\\img_749.png', 'Typography\\\\img_751.png', 'Typography\\\\img_754.png', 'Typography\\\\img_758.png', 'Typography\\\\img_760.png', 'Typography\\\\img_762.png', 'Typography\\\\img_765.png', 'Typography\\\\img_773.png', 'Typography\\\\img_776.png', 'Typography\\\\img_778.png', 'Typography\\\\img_783.png', 'Typography\\\\img_786.png', 'Typography\\\\img_79.png', 'Typography\\\\img_790.png', 'Typography\\\\img_793.png', 'Typography\\\\img_805.png', 'Typography\\\\img_807.png', 'Typography\\\\img_808.png', 'Typography\\\\img_81.png', 'Typography\\\\img_814.png', 'Typography\\\\img_816.png', 'Typography\\\\img_822.png', 'Typography\\\\img_828.png', 'Typography\\\\img_832.png', 'Typography\\\\img_834.png', 'Typography\\\\img_836.png', 'Typography\\\\img_837.png', 'Typography\\\\img_839.png', 'Typography\\\\img_84.png', 'Typography\\\\img_843.png', 'Typography\\\\img_845.png', 'Typography\\\\img_849.png', 'Typography\\\\img_850.png', 'Typography\\\\img_851.png', 'Typography\\\\img_852.png', 'Typography\\\\img_857.png', 'Typography\\\\img_86.png', 'Typography\\\\img_860.png', 'Typography\\\\img_863.png', 'Typography\\\\img_864.png', 'Typography\\\\img_865.png', 'Typography\\\\img_867.png', 'Typography\\\\img_871.png', 'Typography\\\\img_875.png', 'Typography\\\\img_881.png', 'Typography\\\\img_885.png', 'Typography\\\\img_886.png', 'Typography\\\\img_888.png', 'Typography\\\\img_889.png', 'Typography\\\\img_893.png', 'Typography\\\\img_898.png', 'Typography\\\\img_899.png', 'Typography\\\\img_901.png', 'Typography\\\\img_907.png', 'Typography\\\\img_908.png', 'Typography\\\\img_92.png', 'Typography\\\\img_924.png', 'Typography\\\\img_926.png', 'Typography\\\\img_929.png', 'Typography\\\\img_939.png', 'Typography\\\\img_94.png', 'Typography\\\\img_940.png', 'Typography\\\\img_941.png', 'Typography\\\\img_945.png', 'Typography\\\\img_946.png', 'Typography\\\\img_956.png', 'Typography\\\\img_958.png', 'Typography\\\\img_96.png', 'Typography\\\\img_960.png', 'Typography\\\\img_961.png', 'Typography\\\\img_963.png', 'Typography\\\\img_964.png', 'Typography\\\\img_966.png', 'Typography\\\\img_972.png', 'Typography\\\\img_978.png', 'Typography\\\\img_983.png', 'Typography\\\\img_984.png', 'Typography\\\\img_986.png', 'Typography\\\\img_987.png', 'Typography\\\\img_993.png', 'Typography\\\\img_999.png', 'Varsity\\\\img_1060.png', 'Varsity\\\\img_110.png', 'Varsity\\\\img_1150.png', 'Varsity\\\\img_1170.png', 'Varsity\\\\img_1309.png', 'Varsity\\\\img_1682.png', 'Varsity\\\\img_2019.png', 'Varsity\\\\img_2052.png', 'Varsity\\\\img_2064.png', 'Varsity\\\\img_2102.png', 'Varsity\\\\img_2125.png', 'Varsity\\\\img_2233.png', 'Varsity\\\\img_2248.png', 'Varsity\\\\img_2312.png', 'Varsity\\\\img_2576.png', 'Varsity\\\\img_370.png', 'Varsity\\\\img_416.png', 'Varsity\\\\img_43.png', 'Varsity\\\\img_437.png', 'Varsity\\\\img_568.png', 'Varsity\\\\img_672.png', 'Varsity\\\\img_677.png', 'Varsity\\\\img_803.png', 'Varsity\\\\img_866.png', 'Varsity\\\\img_970.png', 'Varsity\\\\img_994.png']\n"
     ]
    }
   ],
   "source": [
    "# Check the corresponding filenames of the predictions\n",
    "print(test_generator.filenames[:])"
   ]
  },
  {
   "cell_type": "markdown",
   "metadata": {},
   "source": [
    "### Save test predictions"
   ]
  },
  {
   "cell_type": "code",
   "execution_count": 19,
   "metadata": {},
   "outputs": [
    {
     "name": "stdout",
     "output_type": "stream",
     "text": [
      "2849\n"
     ]
    }
   ],
   "source": [
    "print(len(test_prob))"
   ]
  },
  {
   "cell_type": "code",
   "execution_count": 21,
   "metadata": {},
   "outputs": [
    {
     "name": "stdout",
     "output_type": "stream",
     "text": [
      "[[  0   0   0   0   0   0   0   0   0   0   0   0   0   0  55   0   0   5\n",
      "    0   0   0  50   0]\n",
      " [  0   0   0   0   0   0   0   0   0   0   0   0   0   0   6   0   0   3\n",
      "    0   0   0   8   0]\n",
      " [  0   0   0   0   0   0   0   0   0   0   0   0   0   0   1   0   0   0\n",
      "    0   0   0   4   0]\n",
      " [  0   0   0   0   0   0   0   0   0   0   0   0   0   0   2   0   0   0\n",
      "    0   0   0   2   0]\n",
      " [  0   0   0   0   0   0   0   0   0   0   0   0   0   0  60   0   0   4\n",
      "    0   0   0  37   0]\n",
      " [  0   0   0   0   0   0   0   0   0   0   0   0   0   0  21   0   0   5\n",
      "    0   0   0  34   0]\n",
      " [  0   0   0   0   0   0   0   0   0   0   0   0   0   0  32   0   0   1\n",
      "    0   0   0  25   0]\n",
      " [  0   0   0   0   0   0   0   0   0   0   0   0   0   0  34   0   0   7\n",
      "    0   0   0  39   0]\n",
      " [  0   0   0   0   0   0   0   0   0   0   0   0   0   0  69   0   0  17\n",
      "    0   0   0  60   0]\n",
      " [  0   0   0   0   0   0   0   0   0   0   0   0   0   0   6   0   0   2\n",
      "    0   0   0   4   0]\n",
      " [  0   0   0   0   0   0   0   0   0   0   0   0   0   0   9   0   0   2\n",
      "    0   0   0   5   0]\n",
      " [  0   0   0   0   0   0   0   0   0   0   0   0   0   0  38   0   0   7\n",
      "    0   0   0  28   0]\n",
      " [  0   0   0   0   0   0   0   0   0   0   0   0   0   0   0   0   0   0\n",
      "    0   0   0   1   0]\n",
      " [  0   0   0   0   0   0   0   0   0   0   0   0   0   0   6   0   0   0\n",
      "    0   0   0   2   0]\n",
      " [  0   0   0   0   0   0   0   0   0   0   0   0   0   0 547   0   0  87\n",
      "    0   0   0 445   0]\n",
      " [  0   0   0   0   0   0   0   0   0   0   0   0   0   0   1   0   0   1\n",
      "    0   0   0   2   0]\n",
      " [  0   0   0   0   0   0   0   0   0   0   0   0   0   0   1   0   0   0\n",
      "    0   0   0   0   0]\n",
      " [  0   0   0   0   0   0   0   0   0   0   0   0   0   0 100   0   0  23\n",
      "    0   0   0 106   0]\n",
      " [  0   0   0   0   0   0   0   0   0   0   0   0   0   0  10   0   0   0\n",
      "    0   0   0   6   0]\n",
      " [  0   0   0   0   0   0   0   0   0   0   0   0   0   0   9   0   0   1\n",
      "    0   0   0   9   0]\n",
      " [  0   0   0   0   0   0   0   0   0   0   0   0   0   0   0   0   0   1\n",
      "    0   0   0   1   0]\n",
      " [  0   0   0   0   0   0   0   0   0   0   0   0   0   0 379   0   0  67\n",
      "    0   0   0 336   0]\n",
      " [  0   0   0   0   0   0   0   0   0   0   0   0   0   0  16   0   0   1\n",
      "    0   0   0   9   0]]\n",
      "0.318006318006318\n",
      "              precision    recall  f1-score   support\n",
      "\n",
      "           0       0.00      0.00      0.00       110\n",
      "           1       0.00      0.00      0.00        17\n",
      "           2       0.00      0.00      0.00         5\n",
      "           3       0.00      0.00      0.00         4\n",
      "           4       0.00      0.00      0.00       101\n",
      "           5       0.00      0.00      0.00        60\n",
      "           6       0.00      0.00      0.00        58\n",
      "           7       0.00      0.00      0.00        80\n",
      "           8       0.00      0.00      0.00       146\n",
      "           9       0.00      0.00      0.00        12\n",
      "          10       0.00      0.00      0.00        16\n",
      "          11       0.00      0.00      0.00        73\n",
      "          12       0.00      0.00      0.00         1\n",
      "          13       0.00      0.00      0.00         8\n",
      "          14       0.39      0.51      0.44      1079\n",
      "          15       0.00      0.00      0.00         4\n",
      "          16       0.00      0.00      0.00         1\n",
      "          17       0.10      0.10      0.10       229\n",
      "          18       0.00      0.00      0.00        16\n",
      "          19       0.00      0.00      0.00        19\n",
      "          20       0.00      0.00      0.00         2\n",
      "          21       0.28      0.43      0.34       782\n",
      "          22       0.00      0.00      0.00        26\n",
      "\n",
      "   micro avg       0.32      0.32      0.32      2849\n",
      "   macro avg       0.03      0.05      0.04      2849\n",
      "weighted avg       0.23      0.32      0.27      2849\n",
      "\n"
     ]
    },
    {
     "name": "stderr",
     "output_type": "stream",
     "text": [
      "C:\\ProgramData\\Anaconda3\\lib\\site-packages\\sklearn\\metrics\\classification.py:1143: UndefinedMetricWarning: Precision and F-score are ill-defined and being set to 0.0 in labels with no predicted samples.\n",
      "  'precision', 'predicted', average, warn_for)\n"
     ]
    }
   ],
   "source": [
    "from sklearn.metrics import confusion_matrix,classification_report,accuracy_score\n",
    "#Prediction metrics.\n",
    "print(confusion_matrix(y_pred=test_pred_classes, y_true=test_generator.classes))\n",
    "print(accuracy_score(y_pred=test_pred_classes, y_true=test_generator.classes))\n",
    "print(classification_report(y_pred=test_pred_classes, y_true=test_generator.classes))"
   ]
  },
  {
   "cell_type": "code",
   "execution_count": null,
   "metadata": {},
   "outputs": [],
   "source": []
  },
  {
   "cell_type": "code",
   "execution_count": null,
   "metadata": {},
   "outputs": [],
   "source": []
  }
 ],
 "metadata": {
  "kernelspec": {
   "display_name": "Python [conda env:Anaconda3]",
   "language": "python",
   "name": "conda-env-Anaconda3-py"
  },
  "language_info": {
   "codemirror_mode": {
    "name": "ipython",
    "version": 3
   },
   "file_extension": ".py",
   "mimetype": "text/x-python",
   "name": "python",
   "nbconvert_exporter": "python",
   "pygments_lexer": "ipython3",
   "version": "3.6.5"
  }
 },
 "nbformat": 4,
 "nbformat_minor": 2
}
